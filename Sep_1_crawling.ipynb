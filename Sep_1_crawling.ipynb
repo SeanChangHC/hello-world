{
  "nbformat": 4,
  "nbformat_minor": 0,
  "metadata": {
    "colab": {
      "name": "Sep 1 crawling.ipynb",
      "provenance": [],
      "collapsed_sections": [],
      "include_colab_link": true
    },
    "kernelspec": {
      "name": "python3",
      "display_name": "Python 3"
    },
    "language_info": {
      "name": "python"
    }
  },
  "cells": [
    {
      "cell_type": "markdown",
      "metadata": {
        "id": "view-in-github",
        "colab_type": "text"
      },
      "source": [
        "<a href=\"https://colab.research.google.com/github/SeanChangHC/hello-world/blob/main/Sep_1_crawling.ipynb\" target=\"_parent\"><img src=\"https://colab.research.google.com/assets/colab-badge.svg\" alt=\"Open In Colab\"/></a>"
      ]
    },
    {
      "cell_type": "markdown",
      "metadata": {
        "id": "WZ0lcNdr8hIu"
      },
      "source": [
        "# 爬蟲!"
      ]
    },
    {
      "cell_type": "code",
      "metadata": {
        "colab": {
          "base_uri": "https://localhost:8080/"
        },
        "id": "jFxIj_ycmN6w",
        "outputId": "42366dda-4c10-4402-ba7b-c9ec9edc0ee2"
      },
      "source": [
        "!pip install selenium\n",
        "!pip install fake_useragent\n",
        "!apt-get update # to update ubuntu to correctly run apt install\n",
        "!apt install chromium-chromedriver\n",
        "!cp /usr/lib/chromium-browser/chromedriver /usr/bin\n",
        "import sys\n",
        "sys.path.insert(0,'/usr/lib/chromium-browser/chromedriver')\n",
        "from selenium import webdriver \n",
        "from selenium.webdriver.common.by import By\n",
        "from selenium.webdriver.support.ui import WebDriverWait\n",
        "from selenium.webdriver.support import expected_conditions as ec\n",
        "from selenium.webdriver.common import action_chains as ActionChains\n",
        "from selenium.webdriver.chrome.options import Options\n",
        "opt = Options\n",
        "chrome_options = webdriver.ChromeOptions()\n",
        "chrome_options.add_argument('--headless')\n",
        "chrome_options.add_argument('--no-sandbox')\n",
        "chrome_options.add_argument('--disable-dev-shm-usage')\n",
        "chrome_options.add_argument('--incognito')\n",
        "wd = webdriver.Chrome('chromedriver',chrome_options=chrome_options)"
      ],
      "execution_count": null,
      "outputs": [
        {
          "output_type": "stream",
          "name": "stdout",
          "text": [
            "Requirement already satisfied: selenium in /usr/local/lib/python3.7/dist-packages (4.1.0)\n",
            "Requirement already satisfied: trio~=0.17 in /usr/local/lib/python3.7/dist-packages (from selenium) (0.19.0)\n",
            "Requirement already satisfied: urllib3[secure]~=1.26 in /usr/local/lib/python3.7/dist-packages (from selenium) (1.26.7)\n",
            "Requirement already satisfied: trio-websocket~=0.9 in /usr/local/lib/python3.7/dist-packages (from selenium) (0.9.2)\n",
            "Requirement already satisfied: sortedcontainers in /usr/local/lib/python3.7/dist-packages (from trio~=0.17->selenium) (2.4.0)\n",
            "Requirement already satisfied: outcome in /usr/local/lib/python3.7/dist-packages (from trio~=0.17->selenium) (1.1.0)\n",
            "Requirement already satisfied: async-generator>=1.9 in /usr/local/lib/python3.7/dist-packages (from trio~=0.17->selenium) (1.10)\n",
            "Requirement already satisfied: attrs>=19.2.0 in /usr/local/lib/python3.7/dist-packages (from trio~=0.17->selenium) (21.2.0)\n",
            "Requirement already satisfied: sniffio in /usr/local/lib/python3.7/dist-packages (from trio~=0.17->selenium) (1.2.0)\n",
            "Requirement already satisfied: idna in /usr/local/lib/python3.7/dist-packages (from trio~=0.17->selenium) (2.10)\n",
            "Requirement already satisfied: wsproto>=0.14 in /usr/local/lib/python3.7/dist-packages (from trio-websocket~=0.9->selenium) (1.0.0)\n",
            "Requirement already satisfied: certifi in /usr/local/lib/python3.7/dist-packages (from urllib3[secure]~=1.26->selenium) (2021.10.8)\n",
            "Requirement already satisfied: cryptography>=1.3.4 in /usr/local/lib/python3.7/dist-packages (from urllib3[secure]~=1.26->selenium) (36.0.1)\n",
            "Requirement already satisfied: pyOpenSSL>=0.14 in /usr/local/lib/python3.7/dist-packages (from urllib3[secure]~=1.26->selenium) (21.0.0)\n",
            "Requirement already satisfied: cffi>=1.12 in /usr/local/lib/python3.7/dist-packages (from cryptography>=1.3.4->urllib3[secure]~=1.26->selenium) (1.15.0)\n",
            "Requirement already satisfied: pycparser in /usr/local/lib/python3.7/dist-packages (from cffi>=1.12->cryptography>=1.3.4->urllib3[secure]~=1.26->selenium) (2.21)\n",
            "Requirement already satisfied: six>=1.5.2 in /usr/local/lib/python3.7/dist-packages (from pyOpenSSL>=0.14->urllib3[secure]~=1.26->selenium) (1.15.0)\n",
            "Requirement already satisfied: h11<1,>=0.9.0 in /usr/local/lib/python3.7/dist-packages (from wsproto>=0.14->trio-websocket~=0.9->selenium) (0.12.0)\n",
            "Requirement already satisfied: fake_useragent in /usr/local/lib/python3.7/dist-packages (0.1.11)\n",
            "Hit:1 https://cloud.r-project.org/bin/linux/ubuntu bionic-cran40/ InRelease\n",
            "Ign:2 https://developer.download.nvidia.com/compute/cuda/repos/ubuntu1804/x86_64  InRelease\n",
            "Ign:3 https://developer.download.nvidia.com/compute/machine-learning/repos/ubuntu1804/x86_64  InRelease\n",
            "Hit:4 http://security.ubuntu.com/ubuntu bionic-security InRelease\n",
            "Hit:5 https://developer.download.nvidia.com/compute/cuda/repos/ubuntu1804/x86_64  Release\n",
            "Hit:6 http://ppa.launchpad.net/c2d4u.team/c2d4u4.0+/ubuntu bionic InRelease\n",
            "Hit:7 http://archive.ubuntu.com/ubuntu bionic InRelease\n",
            "Hit:8 https://developer.download.nvidia.com/compute/machine-learning/repos/ubuntu1804/x86_64  Release\n",
            "Hit:9 http://archive.ubuntu.com/ubuntu bionic-updates InRelease\n",
            "Hit:10 http://ppa.launchpad.net/cran/libgit2/ubuntu bionic InRelease\n",
            "Hit:11 http://archive.ubuntu.com/ubuntu bionic-backports InRelease\n",
            "Hit:12 http://ppa.launchpad.net/deadsnakes/ppa/ubuntu bionic InRelease\n",
            "Hit:14 http://ppa.launchpad.net/graphics-drivers/ppa/ubuntu bionic InRelease\n",
            "Reading package lists... Done\n",
            "Reading package lists... Done\n",
            "Building dependency tree       \n",
            "Reading state information... Done\n",
            "chromium-chromedriver is already the newest version (95.0.4638.69-0ubuntu0.18.04.1).\n",
            "0 upgraded, 0 newly installed, 0 to remove and 85 not upgraded.\n",
            "cp: '/usr/lib/chromium-browser/chromedriver' and '/usr/bin/chromedriver' are the same file\n"
          ]
        },
        {
          "output_type": "stream",
          "name": "stderr",
          "text": [
            "/usr/local/lib/python3.7/dist-packages/ipykernel_launcher.py:20: DeprecationWarning: use options instead of chrome_options\n"
          ]
        }
      ]
    },
    {
      "cell_type": "code",
      "metadata": {
        "id": "0lP898pqmYDy",
        "colab": {
          "base_uri": "https://localhost:8080/"
        },
        "outputId": "4080b241-4e13-4f62-d8d8-a1bd3659b8de"
      },
      "source": [
        "import requests\n",
        "from bs4 import BeautifulSoup\n",
        "import pandas as pd\n",
        "import time\n",
        "from selenium.webdriver.common.keys import Keys\n",
        "import json\n",
        "from google.colab import drive\n",
        "import datetime\n",
        "drive.mount('/content/drive')"
      ],
      "execution_count": null,
      "outputs": [
        {
          "output_type": "stream",
          "name": "stdout",
          "text": [
            "Drive already mounted at /content/drive; to attempt to forcibly remount, call drive.mount(\"/content/drive\", force_remount=True).\n"
          ]
        }
      ]
    },
    {
      "cell_type": "markdown",
      "metadata": {
        "id": "2c7Ky3_YulVO"
      },
      "source": [
        "##  測試window handles 切換頁面"
      ]
    },
    {
      "cell_type": "code",
      "metadata": {
        "id": "LjsPqYPdqABq",
        "colab": {
          "base_uri": "https://localhost:8080/"
        },
        "outputId": "7ce6e7bf-d960-4cc9-97c2-bd99d53399a7"
      },
      "source": [
        "from fake_useragent import UserAgent \n",
        "ua = UserAgent()\n",
        "user_agent = ua.random\n",
        "chrome_options.add_argument('user-agent={}'.format(ua))  \n",
        "wd.get(\"https://www.tripadvisor.com.tw/\")\n",
        "wait = WebDriverWait(wd, 20)\n",
        "\n",
        "\n",
        "search_button = wait.until(ec.element_to_be_clickable((By.XPATH, \"//*[@id='lithium-root']/main/div[3]/div/div/div[2]/form/input[1]\")))  \n",
        "search_button.click()\n",
        "\n",
        "search_button.send_keys(\"涵碧樓\")\n",
        "search_button.send_keys(Keys.ENTER)\n",
        "parent_handle = wd.current_window_handle\n",
        "print('1: ' + wd.title)\n",
        "ele = wait.until(ec.element_to_be_clickable((By.XPATH,\"//*[@id='BODY_BLOCK_JQUERY_REFLOW']/div[2]/div/div[2]/div/div/div/div/div[1]/div/div[1]/div/div[3]/div/div[1]/div/div[2]/div/div/div[1]/div/div/div/div[2]/div[1]/div[1]/span\")))\n",
        "ele.click()\n",
        "handles = wd.window_handles\n",
        "size = len(handles)\n",
        "# for x in range(size):\n",
        "#   print('x= ' + str(x) )\n",
        "#   wd.switch_to.window(handles[x])\n",
        "#   print('child window: ' + wd.title)\n",
        "wd.switch_to.window(handles[1])\n",
        "print('child window: ' + wd.title)\n",
        "time.sleep(7)\n",
        "# print('2: ' + wd.title)\n",
        "heading = wait.until(ec.presence_of_element_located((By.XPATH,\"//*[@id='HEADING']\")))\n",
        "print(heading.text)\n"
      ],
      "execution_count": null,
      "outputs": [
        {
          "output_type": "stream",
          "name": "stdout",
          "text": [
            "1: 搜尋結果： 涵碧樓 - Tripadvisor\n",
            "child window: 日月潭涵碧樓酒店 (魚池) - 250 則旅客評論和比價\n",
            "日月潭涵碧樓酒店 (魚池)\n",
            "The Lalu Sun Moon Lake\n"
          ]
        }
      ]
    },
    {
      "cell_type": "markdown",
      "source": [
        "## switch comment page test"
      ],
      "metadata": {
        "id": "VpVFndTeLX7B"
      }
    },
    {
      "cell_type": "code",
      "source": [
        "wd.get(\"https://www.tripadvisor.com.tw/Hotel_Review-g13808635-d301651-Reviews-The_Lalu_Sun_Moon_Lake-Yuchi_Nantou.html\")\n",
        "for i in range(1,6):\n",
        "  titles = wd.find_elements(By.XPATH, \"//div[@class='fpMxB MC _S b S6 H5 _a']//span//span\")\n",
        "  print(titles[0].text)\n",
        "  next_page = wait.until(ec.element_to_be_clickable((By.XPATH, \"//div//a[@class = 'pageNum '][\" + str(i) + \"]\")))\n",
        "  next_page.click()\n",
        "  \n",
        "  page_count = page_count + 1\n",
        "  time.sleep(5)\n",
        "\n"
      ],
      "metadata": {
        "colab": {
          "base_uri": "https://localhost:8080/",
          "height": 538
        },
        "id": "YcHTjAqM9pwM",
        "outputId": "39ac551e-a1f8-4704-b57f-8715928e51a1"
      },
      "execution_count": null,
      "outputs": [
        {
          "output_type": "error",
          "ename": "MaxRetryError",
          "evalue": "ignored",
          "traceback": [
            "\u001b[0;31m---------------------------------------------------------------------------\u001b[0m",
            "\u001b[0;31mConnectionRefusedError\u001b[0m                    Traceback (most recent call last)",
            "\u001b[0;32m/usr/local/lib/python3.7/dist-packages/urllib3/connection.py\u001b[0m in \u001b[0;36m_new_conn\u001b[0;34m(self)\u001b[0m\n\u001b[1;32m    158\u001b[0m         \"\"\"\n\u001b[0;32m--> 159\u001b[0;31m         \u001b[0mself\u001b[0m\u001b[0;34m.\u001b[0m\u001b[0m_dns_host\u001b[0m \u001b[0;34m=\u001b[0m \u001b[0mvalue\u001b[0m\u001b[0;34m\u001b[0m\u001b[0;34m\u001b[0m\u001b[0m\n\u001b[0m\u001b[1;32m    160\u001b[0m \u001b[0;34m\u001b[0m\u001b[0m\n",
            "\u001b[0;32m/usr/local/lib/python3.7/dist-packages/urllib3/util/connection.py\u001b[0m in \u001b[0;36mcreate_connection\u001b[0;34m(address, timeout, source_address, socket_options)\u001b[0m\n\u001b[1;32m     79\u001b[0m             \u001b[0;31m# If provided, set socket level options before connecting.\u001b[0m\u001b[0;34m\u001b[0m\u001b[0;34m\u001b[0m\u001b[0;34m\u001b[0m\u001b[0m\n\u001b[0;32m---> 80\u001b[0;31m             \u001b[0m_set_socket_options\u001b[0m\u001b[0;34m(\u001b[0m\u001b[0msock\u001b[0m\u001b[0;34m,\u001b[0m \u001b[0msocket_options\u001b[0m\u001b[0;34m)\u001b[0m\u001b[0;34m\u001b[0m\u001b[0;34m\u001b[0m\u001b[0m\n\u001b[0m\u001b[1;32m     81\u001b[0m \u001b[0;34m\u001b[0m\u001b[0m\n",
            "\u001b[0;32m/usr/local/lib/python3.7/dist-packages/urllib3/util/connection.py\u001b[0m in \u001b[0;36mcreate_connection\u001b[0;34m(address, timeout, source_address, socket_options)\u001b[0m\n\u001b[1;32m     69\u001b[0m         return six.raise_from(\n\u001b[0;32m---> 70\u001b[0;31m             \u001b[0mLocationParseError\u001b[0m\u001b[0;34m(\u001b[0m\u001b[0;34mu\"'%s', label empty or too long\"\u001b[0m \u001b[0;34m%\u001b[0m \u001b[0mhost\u001b[0m\u001b[0;34m)\u001b[0m\u001b[0;34m,\u001b[0m \u001b[0;32mNone\u001b[0m\u001b[0;34m\u001b[0m\u001b[0;34m\u001b[0m\u001b[0m\n\u001b[0m\u001b[1;32m     71\u001b[0m         )\n",
            "\u001b[0;31mConnectionRefusedError\u001b[0m: [Errno 111] Connection refused",
            "\nDuring handling of the above exception, another exception occurred:\n",
            "\u001b[0;31mNewConnectionError\u001b[0m                        Traceback (most recent call last)",
            "\u001b[0;32m/usr/local/lib/python3.7/dist-packages/urllib3/connectionpool.py\u001b[0m in \u001b[0;36murlopen\u001b[0;34m(self, method, url, body, headers, retries, redirect, assert_same_host, timeout, pool_timeout, release_conn, chunked, body_pos, **response_kw)\u001b[0m\n\u001b[1;32m    599\u001b[0m             \u001b[0mblock\u001b[0m \u001b[0;32mfor\u001b[0m\u001b[0;31m \u001b[0m\u001b[0;31m`\u001b[0m\u001b[0;31m`\u001b[0m\u001b[0mpool_timeout\u001b[0m\u001b[0;31m`\u001b[0m\u001b[0;31m`\u001b[0m \u001b[0mseconds\u001b[0m \u001b[0;32mand\u001b[0m \u001b[0;32mraise\u001b[0m \u001b[0mEmptyPoolError\u001b[0m \u001b[0;32mif\u001b[0m \u001b[0mno\u001b[0m\u001b[0;34m\u001b[0m\u001b[0;34m\u001b[0m\u001b[0m\n\u001b[0;32m--> 600\u001b[0;31m             \u001b[0mconnection\u001b[0m \u001b[0;32mis\u001b[0m \u001b[0mavailable\u001b[0m \u001b[0mwithin\u001b[0m \u001b[0mthe\u001b[0m \u001b[0mtime\u001b[0m \u001b[0mperiod\u001b[0m\u001b[0;34m.\u001b[0m\u001b[0;34m\u001b[0m\u001b[0;34m\u001b[0m\u001b[0m\n\u001b[0m\u001b[1;32m    601\u001b[0m \u001b[0;34m\u001b[0m\u001b[0m\n",
            "\u001b[0;32m/usr/local/lib/python3.7/dist-packages/urllib3/connectionpool.py\u001b[0m in \u001b[0;36m_make_request\u001b[0;34m(self, conn, method, url, timeout, chunked, **httplib_request_kw)\u001b[0m\n\u001b[1;32m    353\u001b[0m             raise ReadTimeoutError(\n\u001b[0;32m--> 354\u001b[0;31m                 \u001b[0mself\u001b[0m\u001b[0;34m,\u001b[0m \u001b[0murl\u001b[0m\u001b[0;34m,\u001b[0m \u001b[0;34m\"Read timed out. (read timeout=%s)\"\u001b[0m \u001b[0;34m%\u001b[0m \u001b[0mtimeout_value\u001b[0m\u001b[0;34m\u001b[0m\u001b[0;34m\u001b[0m\u001b[0m\n\u001b[0m\u001b[1;32m    355\u001b[0m             )\n",
            "\u001b[0;32m/usr/lib/python3.7/http/client.py\u001b[0m in \u001b[0;36mrequest\u001b[0;34m(self, method, url, body, headers, encode_chunked)\u001b[0m\n\u001b[1;32m   1280\u001b[0m         \u001b[0;34m\"\"\"Send a complete request to the server.\"\"\"\u001b[0m\u001b[0;34m\u001b[0m\u001b[0;34m\u001b[0m\u001b[0m\n\u001b[0;32m-> 1281\u001b[0;31m         \u001b[0mself\u001b[0m\u001b[0;34m.\u001b[0m\u001b[0m_send_request\u001b[0m\u001b[0;34m(\u001b[0m\u001b[0mmethod\u001b[0m\u001b[0;34m,\u001b[0m \u001b[0murl\u001b[0m\u001b[0;34m,\u001b[0m \u001b[0mbody\u001b[0m\u001b[0;34m,\u001b[0m \u001b[0mheaders\u001b[0m\u001b[0;34m,\u001b[0m \u001b[0mencode_chunked\u001b[0m\u001b[0;34m)\u001b[0m\u001b[0;34m\u001b[0m\u001b[0;34m\u001b[0m\u001b[0m\n\u001b[0m\u001b[1;32m   1282\u001b[0m \u001b[0;34m\u001b[0m\u001b[0m\n",
            "\u001b[0;32m/usr/lib/python3.7/http/client.py\u001b[0m in \u001b[0;36m_send_request\u001b[0;34m(self, method, url, body, headers, encode_chunked)\u001b[0m\n\u001b[1;32m   1326\u001b[0m             \u001b[0mbody\u001b[0m \u001b[0;34m=\u001b[0m \u001b[0m_encode\u001b[0m\u001b[0;34m(\u001b[0m\u001b[0mbody\u001b[0m\u001b[0;34m,\u001b[0m \u001b[0;34m'body'\u001b[0m\u001b[0;34m)\u001b[0m\u001b[0;34m\u001b[0m\u001b[0;34m\u001b[0m\u001b[0m\n\u001b[0;32m-> 1327\u001b[0;31m         \u001b[0mself\u001b[0m\u001b[0;34m.\u001b[0m\u001b[0mendheaders\u001b[0m\u001b[0;34m(\u001b[0m\u001b[0mbody\u001b[0m\u001b[0;34m,\u001b[0m \u001b[0mencode_chunked\u001b[0m\u001b[0;34m=\u001b[0m\u001b[0mencode_chunked\u001b[0m\u001b[0;34m)\u001b[0m\u001b[0;34m\u001b[0m\u001b[0;34m\u001b[0m\u001b[0m\n\u001b[0m\u001b[1;32m   1328\u001b[0m \u001b[0;34m\u001b[0m\u001b[0m\n",
            "\u001b[0;32m/usr/lib/python3.7/http/client.py\u001b[0m in \u001b[0;36mendheaders\u001b[0;34m(self, message_body, encode_chunked)\u001b[0m\n\u001b[1;32m   1275\u001b[0m             \u001b[0;32mraise\u001b[0m \u001b[0mCannotSendHeader\u001b[0m\u001b[0;34m(\u001b[0m\u001b[0;34m)\u001b[0m\u001b[0;34m\u001b[0m\u001b[0;34m\u001b[0m\u001b[0m\n\u001b[0;32m-> 1276\u001b[0;31m         \u001b[0mself\u001b[0m\u001b[0;34m.\u001b[0m\u001b[0m_send_output\u001b[0m\u001b[0;34m(\u001b[0m\u001b[0mmessage_body\u001b[0m\u001b[0;34m,\u001b[0m \u001b[0mencode_chunked\u001b[0m\u001b[0;34m=\u001b[0m\u001b[0mencode_chunked\u001b[0m\u001b[0;34m)\u001b[0m\u001b[0;34m\u001b[0m\u001b[0;34m\u001b[0m\u001b[0m\n\u001b[0m\u001b[1;32m   1277\u001b[0m \u001b[0;34m\u001b[0m\u001b[0m\n",
            "\u001b[0;32m/usr/lib/python3.7/http/client.py\u001b[0m in \u001b[0;36m_send_output\u001b[0;34m(self, message_body, encode_chunked)\u001b[0m\n\u001b[1;32m   1035\u001b[0m         \u001b[0;32mdel\u001b[0m \u001b[0mself\u001b[0m\u001b[0;34m.\u001b[0m\u001b[0m_buffer\u001b[0m\u001b[0;34m[\u001b[0m\u001b[0;34m:\u001b[0m\u001b[0;34m]\u001b[0m\u001b[0;34m\u001b[0m\u001b[0;34m\u001b[0m\u001b[0m\n\u001b[0;32m-> 1036\u001b[0;31m         \u001b[0mself\u001b[0m\u001b[0;34m.\u001b[0m\u001b[0msend\u001b[0m\u001b[0;34m(\u001b[0m\u001b[0mmsg\u001b[0m\u001b[0;34m)\u001b[0m\u001b[0;34m\u001b[0m\u001b[0;34m\u001b[0m\u001b[0m\n\u001b[0m\u001b[1;32m   1037\u001b[0m \u001b[0;34m\u001b[0m\u001b[0m\n",
            "\u001b[0;32m/usr/lib/python3.7/http/client.py\u001b[0m in \u001b[0;36msend\u001b[0;34m(self, data)\u001b[0m\n\u001b[1;32m    975\u001b[0m             \u001b[0;32mif\u001b[0m \u001b[0mself\u001b[0m\u001b[0;34m.\u001b[0m\u001b[0mauto_open\u001b[0m\u001b[0;34m:\u001b[0m\u001b[0;34m\u001b[0m\u001b[0;34m\u001b[0m\u001b[0m\n\u001b[0;32m--> 976\u001b[0;31m                 \u001b[0mself\u001b[0m\u001b[0;34m.\u001b[0m\u001b[0mconnect\u001b[0m\u001b[0;34m(\u001b[0m\u001b[0;34m)\u001b[0m\u001b[0;34m\u001b[0m\u001b[0;34m\u001b[0m\u001b[0m\n\u001b[0m\u001b[1;32m    977\u001b[0m             \u001b[0;32melse\u001b[0m\u001b[0;34m:\u001b[0m\u001b[0;34m\u001b[0m\u001b[0;34m\u001b[0m\u001b[0m\n",
            "\u001b[0;32m/usr/local/lib/python3.7/dist-packages/urllib3/connection.py\u001b[0m in \u001b[0;36mconnect\u001b[0;34m(self)\u001b[0m\n\u001b[1;32m    180\u001b[0m                 \u001b[0mself\u001b[0m\u001b[0;34m,\u001b[0m\u001b[0;34m\u001b[0m\u001b[0;34m\u001b[0m\u001b[0m\n\u001b[0;32m--> 181\u001b[0;31m                 \u001b[0;34m\"Connection to %s timed out. (connect timeout=%s)\"\u001b[0m\u001b[0;34m\u001b[0m\u001b[0;34m\u001b[0m\u001b[0m\n\u001b[0m\u001b[1;32m    182\u001b[0m                 \u001b[0;34m%\u001b[0m \u001b[0;34m(\u001b[0m\u001b[0mself\u001b[0m\u001b[0;34m.\u001b[0m\u001b[0mhost\u001b[0m\u001b[0;34m,\u001b[0m \u001b[0mself\u001b[0m\u001b[0;34m.\u001b[0m\u001b[0mtimeout\u001b[0m\u001b[0;34m)\u001b[0m\u001b[0;34m,\u001b[0m\u001b[0;34m\u001b[0m\u001b[0;34m\u001b[0m\u001b[0m\n",
            "\u001b[0;32m/usr/local/lib/python3.7/dist-packages/urllib3/connection.py\u001b[0m in \u001b[0;36m_new_conn\u001b[0;34m(self)\u001b[0m\n\u001b[1;32m    167\u001b[0m         \u001b[0;32mif\u001b[0m \u001b[0mself\u001b[0m\u001b[0;34m.\u001b[0m\u001b[0msource_address\u001b[0m\u001b[0;34m:\u001b[0m\u001b[0;34m\u001b[0m\u001b[0;34m\u001b[0m\u001b[0m\n\u001b[0;32m--> 168\u001b[0;31m             \u001b[0mextra_kw\u001b[0m\u001b[0;34m[\u001b[0m\u001b[0;34m\"source_address\"\u001b[0m\u001b[0;34m]\u001b[0m \u001b[0;34m=\u001b[0m \u001b[0mself\u001b[0m\u001b[0;34m.\u001b[0m\u001b[0msource_address\u001b[0m\u001b[0;34m\u001b[0m\u001b[0;34m\u001b[0m\u001b[0m\n\u001b[0m\u001b[1;32m    169\u001b[0m \u001b[0;34m\u001b[0m\u001b[0m\n",
            "\u001b[0;31mNewConnectionError\u001b[0m: <urllib3.connection.HTTPConnection object at 0x7f1e07f0ca90>: Failed to establish a new connection: [Errno 111] Connection refused",
            "\nDuring handling of the above exception, another exception occurred:\n",
            "\u001b[0;31mMaxRetryError\u001b[0m                             Traceback (most recent call last)",
            "\u001b[0;32m<ipython-input-17-5afc911d47ad>\u001b[0m in \u001b[0;36m<module>\u001b[0;34m()\u001b[0m\n\u001b[0;32m----> 1\u001b[0;31m \u001b[0mwd\u001b[0m\u001b[0;34m.\u001b[0m\u001b[0mget\u001b[0m\u001b[0;34m(\u001b[0m\u001b[0;34m\"https://www.tripadvisor.com.tw/Hotel_Review-g13808635-d301651-Reviews-The_Lalu_Sun_Moon_Lake-Yuchi_Nantou.html\"\u001b[0m\u001b[0;34m)\u001b[0m\u001b[0;34m\u001b[0m\u001b[0;34m\u001b[0m\u001b[0m\n\u001b[0m\u001b[1;32m      2\u001b[0m \u001b[0;32mfor\u001b[0m \u001b[0mi\u001b[0m \u001b[0;32min\u001b[0m \u001b[0mrange\u001b[0m\u001b[0;34m(\u001b[0m\u001b[0;36m1\u001b[0m\u001b[0;34m,\u001b[0m\u001b[0;36m6\u001b[0m\u001b[0;34m)\u001b[0m\u001b[0;34m:\u001b[0m\u001b[0;34m\u001b[0m\u001b[0;34m\u001b[0m\u001b[0m\n\u001b[1;32m      3\u001b[0m   \u001b[0mtitles\u001b[0m \u001b[0;34m=\u001b[0m \u001b[0mwd\u001b[0m\u001b[0;34m.\u001b[0m\u001b[0mfind_elements\u001b[0m\u001b[0;34m(\u001b[0m\u001b[0mBy\u001b[0m\u001b[0;34m.\u001b[0m\u001b[0mXPATH\u001b[0m\u001b[0;34m,\u001b[0m \u001b[0;34m\"//div[@class='fpMxB MC _S b S6 H5 _a']//span//span\"\u001b[0m\u001b[0;34m)\u001b[0m\u001b[0;34m\u001b[0m\u001b[0;34m\u001b[0m\u001b[0m\n\u001b[1;32m      4\u001b[0m   \u001b[0mprint\u001b[0m\u001b[0;34m(\u001b[0m\u001b[0mtitles\u001b[0m\u001b[0;34m[\u001b[0m\u001b[0;36m0\u001b[0m\u001b[0;34m]\u001b[0m\u001b[0;34m.\u001b[0m\u001b[0mtext\u001b[0m\u001b[0;34m)\u001b[0m\u001b[0;34m\u001b[0m\u001b[0;34m\u001b[0m\u001b[0m\n\u001b[1;32m      5\u001b[0m   \u001b[0mnext_page\u001b[0m \u001b[0;34m=\u001b[0m \u001b[0mwait\u001b[0m\u001b[0;34m.\u001b[0m\u001b[0muntil\u001b[0m\u001b[0;34m(\u001b[0m\u001b[0mec\u001b[0m\u001b[0;34m.\u001b[0m\u001b[0melement_to_be_clickable\u001b[0m\u001b[0;34m(\u001b[0m\u001b[0;34m(\u001b[0m\u001b[0mBy\u001b[0m\u001b[0;34m.\u001b[0m\u001b[0mXPATH\u001b[0m\u001b[0;34m,\u001b[0m \u001b[0;34m\"//div//a[@class = 'pageNum '][\"\u001b[0m \u001b[0;34m+\u001b[0m \u001b[0mstr\u001b[0m\u001b[0;34m(\u001b[0m\u001b[0mi\u001b[0m\u001b[0;34m)\u001b[0m \u001b[0;34m+\u001b[0m \u001b[0;34m\"]\"\u001b[0m\u001b[0;34m)\u001b[0m\u001b[0;34m)\u001b[0m\u001b[0;34m)\u001b[0m\u001b[0;34m\u001b[0m\u001b[0;34m\u001b[0m\u001b[0m\n",
            "\u001b[0;32m/usr/local/lib/python3.7/dist-packages/selenium/webdriver/remote/webdriver.py\u001b[0m in \u001b[0;36mget\u001b[0;34m(self, url)\u001b[0m\n\u001b[1;32m    434\u001b[0m         \u001b[0mLoads\u001b[0m \u001b[0ma\u001b[0m \u001b[0mweb\u001b[0m \u001b[0mpage\u001b[0m \u001b[0;32min\u001b[0m \u001b[0mthe\u001b[0m \u001b[0mcurrent\u001b[0m \u001b[0mbrowser\u001b[0m \u001b[0msession\u001b[0m\u001b[0;34m.\u001b[0m\u001b[0;34m\u001b[0m\u001b[0;34m\u001b[0m\u001b[0m\n\u001b[1;32m    435\u001b[0m         \"\"\"\n\u001b[0;32m--> 436\u001b[0;31m         \u001b[0mself\u001b[0m\u001b[0;34m.\u001b[0m\u001b[0mexecute\u001b[0m\u001b[0;34m(\u001b[0m\u001b[0mCommand\u001b[0m\u001b[0;34m.\u001b[0m\u001b[0mGET\u001b[0m\u001b[0;34m,\u001b[0m \u001b[0;34m{\u001b[0m\u001b[0;34m'url'\u001b[0m\u001b[0;34m:\u001b[0m \u001b[0murl\u001b[0m\u001b[0;34m}\u001b[0m\u001b[0;34m)\u001b[0m\u001b[0;34m\u001b[0m\u001b[0;34m\u001b[0m\u001b[0m\n\u001b[0m\u001b[1;32m    437\u001b[0m \u001b[0;34m\u001b[0m\u001b[0m\n\u001b[1;32m    438\u001b[0m     \u001b[0;34m@\u001b[0m\u001b[0mproperty\u001b[0m\u001b[0;34m\u001b[0m\u001b[0;34m\u001b[0m\u001b[0m\n",
            "\u001b[0;32m/usr/local/lib/python3.7/dist-packages/selenium/webdriver/remote/webdriver.py\u001b[0m in \u001b[0;36mexecute\u001b[0;34m(self, driver_command, params)\u001b[0m\n\u001b[1;32m    420\u001b[0m \u001b[0;34m\u001b[0m\u001b[0m\n\u001b[1;32m    421\u001b[0m         \u001b[0mparams\u001b[0m \u001b[0;34m=\u001b[0m \u001b[0mself\u001b[0m\u001b[0;34m.\u001b[0m\u001b[0m_wrap_value\u001b[0m\u001b[0;34m(\u001b[0m\u001b[0mparams\u001b[0m\u001b[0;34m)\u001b[0m\u001b[0;34m\u001b[0m\u001b[0;34m\u001b[0m\u001b[0m\n\u001b[0;32m--> 422\u001b[0;31m         \u001b[0mresponse\u001b[0m \u001b[0;34m=\u001b[0m \u001b[0mself\u001b[0m\u001b[0;34m.\u001b[0m\u001b[0mcommand_executor\u001b[0m\u001b[0;34m.\u001b[0m\u001b[0mexecute\u001b[0m\u001b[0;34m(\u001b[0m\u001b[0mdriver_command\u001b[0m\u001b[0;34m,\u001b[0m \u001b[0mparams\u001b[0m\u001b[0;34m)\u001b[0m\u001b[0;34m\u001b[0m\u001b[0;34m\u001b[0m\u001b[0m\n\u001b[0m\u001b[1;32m    423\u001b[0m         \u001b[0;32mif\u001b[0m \u001b[0mresponse\u001b[0m\u001b[0;34m:\u001b[0m\u001b[0;34m\u001b[0m\u001b[0;34m\u001b[0m\u001b[0m\n\u001b[1;32m    424\u001b[0m             \u001b[0mself\u001b[0m\u001b[0;34m.\u001b[0m\u001b[0merror_handler\u001b[0m\u001b[0;34m.\u001b[0m\u001b[0mcheck_response\u001b[0m\u001b[0;34m(\u001b[0m\u001b[0mresponse\u001b[0m\u001b[0;34m)\u001b[0m\u001b[0;34m\u001b[0m\u001b[0;34m\u001b[0m\u001b[0m\n",
            "\u001b[0;32m/usr/local/lib/python3.7/dist-packages/selenium/webdriver/remote/remote_connection.py\u001b[0m in \u001b[0;36mexecute\u001b[0;34m(self, command, params)\u001b[0m\n\u001b[1;32m    419\u001b[0m         \u001b[0mdata\u001b[0m \u001b[0;34m=\u001b[0m \u001b[0mutils\u001b[0m\u001b[0;34m.\u001b[0m\u001b[0mdump_json\u001b[0m\u001b[0;34m(\u001b[0m\u001b[0mparams\u001b[0m\u001b[0;34m)\u001b[0m\u001b[0;34m\u001b[0m\u001b[0;34m\u001b[0m\u001b[0m\n\u001b[1;32m    420\u001b[0m         \u001b[0murl\u001b[0m \u001b[0;34m=\u001b[0m \u001b[0;34mf\"{self._url}{path}\"\u001b[0m\u001b[0;34m\u001b[0m\u001b[0;34m\u001b[0m\u001b[0m\n\u001b[0;32m--> 421\u001b[0;31m         \u001b[0;32mreturn\u001b[0m \u001b[0mself\u001b[0m\u001b[0;34m.\u001b[0m\u001b[0m_request\u001b[0m\u001b[0;34m(\u001b[0m\u001b[0mcommand_info\u001b[0m\u001b[0;34m[\u001b[0m\u001b[0;36m0\u001b[0m\u001b[0;34m]\u001b[0m\u001b[0;34m,\u001b[0m \u001b[0murl\u001b[0m\u001b[0;34m,\u001b[0m \u001b[0mbody\u001b[0m\u001b[0;34m=\u001b[0m\u001b[0mdata\u001b[0m\u001b[0;34m)\u001b[0m\u001b[0;34m\u001b[0m\u001b[0;34m\u001b[0m\u001b[0m\n\u001b[0m\u001b[1;32m    422\u001b[0m \u001b[0;34m\u001b[0m\u001b[0m\n\u001b[1;32m    423\u001b[0m     \u001b[0;32mdef\u001b[0m \u001b[0m_request\u001b[0m\u001b[0;34m(\u001b[0m\u001b[0mself\u001b[0m\u001b[0;34m,\u001b[0m \u001b[0mmethod\u001b[0m\u001b[0;34m,\u001b[0m \u001b[0murl\u001b[0m\u001b[0;34m,\u001b[0m \u001b[0mbody\u001b[0m\u001b[0;34m=\u001b[0m\u001b[0;32mNone\u001b[0m\u001b[0;34m)\u001b[0m\u001b[0;34m:\u001b[0m\u001b[0;34m\u001b[0m\u001b[0;34m\u001b[0m\u001b[0m\n",
            "\u001b[0;32m/usr/local/lib/python3.7/dist-packages/selenium/webdriver/remote/remote_connection.py\u001b[0m in \u001b[0;36m_request\u001b[0;34m(self, method, url, body)\u001b[0m\n\u001b[1;32m    441\u001b[0m \u001b[0;34m\u001b[0m\u001b[0m\n\u001b[1;32m    442\u001b[0m         \u001b[0;32mif\u001b[0m \u001b[0mself\u001b[0m\u001b[0;34m.\u001b[0m\u001b[0mkeep_alive\u001b[0m\u001b[0;34m:\u001b[0m\u001b[0;34m\u001b[0m\u001b[0;34m\u001b[0m\u001b[0m\n\u001b[0;32m--> 443\u001b[0;31m             \u001b[0mresp\u001b[0m \u001b[0;34m=\u001b[0m \u001b[0mself\u001b[0m\u001b[0;34m.\u001b[0m\u001b[0m_conn\u001b[0m\u001b[0;34m.\u001b[0m\u001b[0mrequest\u001b[0m\u001b[0;34m(\u001b[0m\u001b[0mmethod\u001b[0m\u001b[0;34m,\u001b[0m \u001b[0murl\u001b[0m\u001b[0;34m,\u001b[0m \u001b[0mbody\u001b[0m\u001b[0;34m=\u001b[0m\u001b[0mbody\u001b[0m\u001b[0;34m,\u001b[0m \u001b[0mheaders\u001b[0m\u001b[0;34m=\u001b[0m\u001b[0mheaders\u001b[0m\u001b[0;34m)\u001b[0m\u001b[0;34m\u001b[0m\u001b[0;34m\u001b[0m\u001b[0m\n\u001b[0m\u001b[1;32m    444\u001b[0m             \u001b[0mstatuscode\u001b[0m \u001b[0;34m=\u001b[0m \u001b[0mresp\u001b[0m\u001b[0;34m.\u001b[0m\u001b[0mstatus\u001b[0m\u001b[0;34m\u001b[0m\u001b[0;34m\u001b[0m\u001b[0m\n\u001b[1;32m    445\u001b[0m         \u001b[0;32melse\u001b[0m\u001b[0;34m:\u001b[0m\u001b[0;34m\u001b[0m\u001b[0;34m\u001b[0m\u001b[0m\n",
            "\u001b[0;32m/usr/local/lib/python3.7/dist-packages/urllib3/request.py\u001b[0m in \u001b[0;36mrequest\u001b[0;34m(self, method, url, fields, headers, **urlopen_kw)\u001b[0m\n\u001b[1;32m     70\u001b[0m \u001b[0;34m\u001b[0m\u001b[0m\n\u001b[1;32m     71\u001b[0m         \u001b[0murlopen_kw\u001b[0m\u001b[0;34m[\u001b[0m\u001b[0;34m\"request_url\"\u001b[0m\u001b[0;34m]\u001b[0m \u001b[0;34m=\u001b[0m \u001b[0murl\u001b[0m\u001b[0;34m\u001b[0m\u001b[0;34m\u001b[0m\u001b[0m\n\u001b[0;32m---> 72\u001b[0;31m \u001b[0;34m\u001b[0m\u001b[0m\n\u001b[0m\u001b[1;32m     73\u001b[0m         \u001b[0;32mif\u001b[0m \u001b[0mmethod\u001b[0m \u001b[0;32min\u001b[0m \u001b[0mself\u001b[0m\u001b[0;34m.\u001b[0m\u001b[0m_encode_url_methods\u001b[0m\u001b[0;34m:\u001b[0m\u001b[0;34m\u001b[0m\u001b[0;34m\u001b[0m\u001b[0m\n\u001b[1;32m     74\u001b[0m             return self.request_encode_url(\n",
            "\u001b[0;32m/usr/local/lib/python3.7/dist-packages/urllib3/request.py\u001b[0m in \u001b[0;36mrequest_encode_body\u001b[0;34m(self, method, url, fields, headers, encode_multipart, multipart_boundary, **urlopen_kw)\u001b[0m\n\u001b[1;32m    148\u001b[0m         \u001b[0;32mif\u001b[0m \u001b[0mfields\u001b[0m\u001b[0;34m:\u001b[0m\u001b[0;34m\u001b[0m\u001b[0;34m\u001b[0m\u001b[0m\n\u001b[1;32m    149\u001b[0m             \u001b[0;32mif\u001b[0m \u001b[0;34m\"body\"\u001b[0m \u001b[0;32min\u001b[0m \u001b[0murlopen_kw\u001b[0m\u001b[0;34m:\u001b[0m\u001b[0;34m\u001b[0m\u001b[0;34m\u001b[0m\u001b[0m\n\u001b[0;32m--> 150\u001b[0;31m                 raise TypeError(\n\u001b[0m\u001b[1;32m    151\u001b[0m                     \u001b[0;34m\"request got values for both 'fields' and 'body', can only specify one.\"\u001b[0m\u001b[0;34m\u001b[0m\u001b[0;34m\u001b[0m\u001b[0m\n\u001b[1;32m    152\u001b[0m                 )\n",
            "\u001b[0;32m/usr/local/lib/python3.7/dist-packages/urllib3/poolmanager.py\u001b[0m in \u001b[0;36murlopen\u001b[0;34m(self, method, url, redirect, **kw)\u001b[0m\n\u001b[1;32m    322\u001b[0m     \u001b[0;32mdef\u001b[0m \u001b[0m_proxy_requires_url_absolute_form\u001b[0m\u001b[0;34m(\u001b[0m\u001b[0mself\u001b[0m\u001b[0;34m,\u001b[0m \u001b[0mparsed_url\u001b[0m\u001b[0;34m)\u001b[0m\u001b[0;34m:\u001b[0m\u001b[0;34m\u001b[0m\u001b[0;34m\u001b[0m\u001b[0m\n\u001b[1;32m    323\u001b[0m         \"\"\"\n\u001b[0;32m--> 324\u001b[0;31m         \u001b[0mIndicates\u001b[0m \u001b[0;32mif\u001b[0m \u001b[0mthe\u001b[0m \u001b[0mproxy\u001b[0m \u001b[0mrequires\u001b[0m \u001b[0mthe\u001b[0m \u001b[0mcomplete\u001b[0m \u001b[0mdestination\u001b[0m \u001b[0mURL\u001b[0m \u001b[0;32min\u001b[0m \u001b[0mthe\u001b[0m\u001b[0;34m\u001b[0m\u001b[0;34m\u001b[0m\u001b[0m\n\u001b[0m\u001b[1;32m    325\u001b[0m         \u001b[0mrequest\u001b[0m\u001b[0;34m.\u001b[0m  \u001b[0mNormally\u001b[0m \u001b[0mthis\u001b[0m \u001b[0;32mis\u001b[0m \u001b[0monly\u001b[0m \u001b[0mneeded\u001b[0m \u001b[0mwhen\u001b[0m \u001b[0;32mnot\u001b[0m \u001b[0musing\u001b[0m \u001b[0man\u001b[0m \u001b[0mHTTP\u001b[0m \u001b[0mCONNECT\u001b[0m\u001b[0;34m\u001b[0m\u001b[0;34m\u001b[0m\u001b[0m\n\u001b[1;32m    326\u001b[0m         \u001b[0mtunnel\u001b[0m\u001b[0;34m.\u001b[0m\u001b[0;34m\u001b[0m\u001b[0;34m\u001b[0m\u001b[0m\n",
            "\u001b[0;32m/usr/local/lib/python3.7/dist-packages/urllib3/connectionpool.py\u001b[0m in \u001b[0;36murlopen\u001b[0;34m(self, method, url, body, headers, retries, redirect, assert_same_host, timeout, pool_timeout, release_conn, chunked, body_pos, **response_kw)\u001b[0m\n\u001b[1;32m    665\u001b[0m \u001b[0;34m\u001b[0m\u001b[0m\n\u001b[1;32m    666\u001b[0m         \u001b[0;31m# Merge the proxy headers. Only done when not using HTTP CONNECT. We\u001b[0m\u001b[0;34m\u001b[0m\u001b[0;34m\u001b[0m\u001b[0;34m\u001b[0m\u001b[0m\n\u001b[0;32m--> 667\u001b[0;31m         \u001b[0;31m# have to copy the headers dict so we can safely change it without those\u001b[0m\u001b[0;34m\u001b[0m\u001b[0;34m\u001b[0m\u001b[0;34m\u001b[0m\u001b[0m\n\u001b[0m\u001b[1;32m    668\u001b[0m         \u001b[0;31m# changes being reflected in anyone else's copy.\u001b[0m\u001b[0;34m\u001b[0m\u001b[0;34m\u001b[0m\u001b[0;34m\u001b[0m\u001b[0m\n\u001b[1;32m    669\u001b[0m         \u001b[0;32mif\u001b[0m \u001b[0;32mnot\u001b[0m \u001b[0mhttp_tunnel_required\u001b[0m\u001b[0;34m:\u001b[0m\u001b[0;34m\u001b[0m\u001b[0;34m\u001b[0m\u001b[0m\n",
            "\u001b[0;32m/usr/local/lib/python3.7/dist-packages/urllib3/connectionpool.py\u001b[0m in \u001b[0;36murlopen\u001b[0;34m(self, method, url, body, headers, retries, redirect, assert_same_host, timeout, pool_timeout, release_conn, chunked, body_pos, **response_kw)\u001b[0m\n\u001b[1;32m    665\u001b[0m \u001b[0;34m\u001b[0m\u001b[0m\n\u001b[1;32m    666\u001b[0m         \u001b[0;31m# Merge the proxy headers. Only done when not using HTTP CONNECT. We\u001b[0m\u001b[0;34m\u001b[0m\u001b[0;34m\u001b[0m\u001b[0;34m\u001b[0m\u001b[0m\n\u001b[0;32m--> 667\u001b[0;31m         \u001b[0;31m# have to copy the headers dict so we can safely change it without those\u001b[0m\u001b[0;34m\u001b[0m\u001b[0;34m\u001b[0m\u001b[0;34m\u001b[0m\u001b[0m\n\u001b[0m\u001b[1;32m    668\u001b[0m         \u001b[0;31m# changes being reflected in anyone else's copy.\u001b[0m\u001b[0;34m\u001b[0m\u001b[0;34m\u001b[0m\u001b[0;34m\u001b[0m\u001b[0m\n\u001b[1;32m    669\u001b[0m         \u001b[0;32mif\u001b[0m \u001b[0;32mnot\u001b[0m \u001b[0mhttp_tunnel_required\u001b[0m\u001b[0;34m:\u001b[0m\u001b[0;34m\u001b[0m\u001b[0;34m\u001b[0m\u001b[0m\n",
            "\u001b[0;32m/usr/local/lib/python3.7/dist-packages/urllib3/connectionpool.py\u001b[0m in \u001b[0;36murlopen\u001b[0;34m(self, method, url, body, headers, retries, redirect, assert_same_host, timeout, pool_timeout, release_conn, chunked, body_pos, **response_kw)\u001b[0m\n\u001b[1;32m    665\u001b[0m \u001b[0;34m\u001b[0m\u001b[0m\n\u001b[1;32m    666\u001b[0m         \u001b[0;31m# Merge the proxy headers. Only done when not using HTTP CONNECT. We\u001b[0m\u001b[0;34m\u001b[0m\u001b[0;34m\u001b[0m\u001b[0;34m\u001b[0m\u001b[0m\n\u001b[0;32m--> 667\u001b[0;31m         \u001b[0;31m# have to copy the headers dict so we can safely change it without those\u001b[0m\u001b[0;34m\u001b[0m\u001b[0;34m\u001b[0m\u001b[0;34m\u001b[0m\u001b[0m\n\u001b[0m\u001b[1;32m    668\u001b[0m         \u001b[0;31m# changes being reflected in anyone else's copy.\u001b[0m\u001b[0;34m\u001b[0m\u001b[0;34m\u001b[0m\u001b[0;34m\u001b[0m\u001b[0m\n\u001b[1;32m    669\u001b[0m         \u001b[0;32mif\u001b[0m \u001b[0;32mnot\u001b[0m \u001b[0mhttp_tunnel_required\u001b[0m\u001b[0;34m:\u001b[0m\u001b[0;34m\u001b[0m\u001b[0;34m\u001b[0m\u001b[0m\n",
            "\u001b[0;32m/usr/local/lib/python3.7/dist-packages/urllib3/connectionpool.py\u001b[0m in \u001b[0;36murlopen\u001b[0;34m(self, method, url, body, headers, retries, redirect, assert_same_host, timeout, pool_timeout, release_conn, chunked, body_pos, **response_kw)\u001b[0m\n\u001b[1;32m    636\u001b[0m         \u001b[0;32mif\u001b[0m \u001b[0mrelease_conn\u001b[0m \u001b[0;32mis\u001b[0m \u001b[0;32mNone\u001b[0m\u001b[0;34m:\u001b[0m\u001b[0;34m\u001b[0m\u001b[0;34m\u001b[0m\u001b[0m\n\u001b[1;32m    637\u001b[0m             \u001b[0mrelease_conn\u001b[0m \u001b[0;34m=\u001b[0m \u001b[0mresponse_kw\u001b[0m\u001b[0;34m.\u001b[0m\u001b[0mget\u001b[0m\u001b[0;34m(\u001b[0m\u001b[0;34m\"preload_content\"\u001b[0m\u001b[0;34m,\u001b[0m \u001b[0;32mTrue\u001b[0m\u001b[0;34m)\u001b[0m\u001b[0;34m\u001b[0m\u001b[0;34m\u001b[0m\u001b[0m\n\u001b[0;32m--> 638\u001b[0;31m \u001b[0;34m\u001b[0m\u001b[0m\n\u001b[0m\u001b[1;32m    639\u001b[0m         \u001b[0;31m# Check host\u001b[0m\u001b[0;34m\u001b[0m\u001b[0;34m\u001b[0m\u001b[0;34m\u001b[0m\u001b[0m\n\u001b[1;32m    640\u001b[0m         \u001b[0;32mif\u001b[0m \u001b[0massert_same_host\u001b[0m \u001b[0;32mand\u001b[0m \u001b[0;32mnot\u001b[0m \u001b[0mself\u001b[0m\u001b[0;34m.\u001b[0m\u001b[0mis_same_host\u001b[0m\u001b[0;34m(\u001b[0m\u001b[0murl\u001b[0m\u001b[0;34m)\u001b[0m\u001b[0;34m:\u001b[0m\u001b[0;34m\u001b[0m\u001b[0;34m\u001b[0m\u001b[0m\n",
            "\u001b[0;32m/usr/local/lib/python3.7/dist-packages/urllib3/util/retry.py\u001b[0m in \u001b[0;36mincrement\u001b[0;34m(self, method, url, response, error, _pool, _stacktrace)\u001b[0m\n\u001b[1;32m    397\u001b[0m             \u001b[0;32mreturn\u001b[0m\u001b[0;34m\u001b[0m\u001b[0;34m\u001b[0m\u001b[0m\n\u001b[1;32m    398\u001b[0m         \u001b[0mtime\u001b[0m\u001b[0;34m.\u001b[0m\u001b[0msleep\u001b[0m\u001b[0;34m(\u001b[0m\u001b[0mbackoff\u001b[0m\u001b[0;34m)\u001b[0m\u001b[0;34m\u001b[0m\u001b[0;34m\u001b[0m\u001b[0m\n\u001b[0;32m--> 399\u001b[0;31m \u001b[0;34m\u001b[0m\u001b[0m\n\u001b[0m\u001b[1;32m    400\u001b[0m     \u001b[0;32mdef\u001b[0m \u001b[0msleep\u001b[0m\u001b[0;34m(\u001b[0m\u001b[0mself\u001b[0m\u001b[0;34m,\u001b[0m \u001b[0mresponse\u001b[0m\u001b[0;34m=\u001b[0m\u001b[0;32mNone\u001b[0m\u001b[0;34m)\u001b[0m\u001b[0;34m:\u001b[0m\u001b[0;34m\u001b[0m\u001b[0;34m\u001b[0m\u001b[0m\n\u001b[1;32m    401\u001b[0m         \"\"\"Sleep between retry attempts.\n",
            "\u001b[0;31mMaxRetryError\u001b[0m: HTTPConnectionPool(host='localhost', port=56851): Max retries exceeded with url: /session/6aa79e85ac94de3ba5836b2e4200c050/url (Caused by NewConnectionError('<urllib3.connection.HTTPConnection object at 0x7f1e07f0ca90>: Failed to establish a new connection: [Errno 111] Connection refused'))"
          ]
        }
      ]
    },
    {
      "cell_type": "markdown",
      "metadata": {
        "id": "sYPY9hK2qhxc"
      },
      "source": [
        ""
      ]
    },
    {
      "cell_type": "markdown",
      "metadata": {
        "id": "02e7iEXGu4Du"
      },
      "source": [
        "## 正式爬蟲"
      ]
    },
    {
      "cell_type": "code",
      "metadata": {
        "colab": {
          "base_uri": "https://localhost:8080/"
        },
        "id": "YbNzXOXNmeay",
        "outputId": "07371521-2006-4a65-a65c-cf1c6365e7ed"
      },
      "source": [
        "\n",
        "wait = WebDriverWait(wd, 20)\n",
        "\n",
        "page_count = 1\n",
        "#利用user_agent 去躲避反爬蟲\n",
        "# dictionary -> list \n",
        "dic = {\"title_keys\" : [],\n",
        "    \"comment_keys\" : [],\n",
        "    \"rating_keys\" : [],\n",
        "    \"comment_time\": []}\n",
        "\n",
        "\n",
        "comments = []\n",
        "ratings = []\n",
        "titles = []\n",
        "def webcrawling():\n",
        "  #parameter\n",
        "  \n",
        "\n",
        "  \n",
        "  comment_times_htmls = []\n",
        "  comment_times = []\n",
        "  # title\n",
        "  titles = wd.find_elements(By.XPATH, \"//div[@class='fpMxB MC _S b S6 H5 _a']//span//span\")\n",
        "\n",
        "  for title in titles:\n",
        "    dic['title_keys'].append(title.text)\n",
        "  time.sleep(10)\n",
        "  # comment\n",
        "  comments = wd.find_elements(By.XPATH, \"//q[@class='XllAv H4 _a']//span\")\n",
        "  for comment in comments:\n",
        "    dic['comment_keys'].append(comment.text)\n",
        "\n",
        "  # rating\n",
        "  ratings = wd.find_elements(By.XPATH, \"//div[@class = 'emWez F1']//span\")\n",
        "  # 判斷是幾星評論\n",
        "  for rating in ratings: \n",
        "    if(rating.get_attribute(\"class\") == \"ui_bubble_rating bubble_50\"):\n",
        "      dic['rating_keys'].append(\"5 STARS\")\n",
        "    if(rating.get_attribute(\"class\") == \"ui_bubble_rating bubble_40\"):\n",
        "      dic['rating_keys'].append(\"4 STARS\")\n",
        "    if(rating.get_attribute(\"class\") == \"ui_bubble_rating bubble_30\"):\n",
        "      dic['rating_keys'].append(\"3 STARS\")\n",
        "    if(rating.get_attribute(\"class\") == \"ui_bubble_rating bubble_20\"):\n",
        "      dic['rating_keys'].append(\"2 STARS\")\n",
        "    if(rating.get_attribute(\"class\") == \"ui_bubble_rating bubble_10\"):\n",
        "      dic['rating_keys'].append(\"1 STARS\")\n",
        "\n",
        "  #comment time\n",
        "  comment_times_htmls = wd.find_elements(By.XPATH,\"//div[@class = 'bcaHz']//span\")\n",
        "  for comment_time_html in comment_times_htmls:\n",
        "    if comment_time_html.text[-8:-7] == str(2):\n",
        "      dic['comment_time'].append(comment_time_html.text[-8:])\n",
        "    else:\n",
        "      dic['comment_time'].append(comment_time_html.text[-7:])\n",
        "\n",
        "#變成比較像 json 的 dictionary form\n",
        "def jsoncrawling():\n",
        "  count = 0\n",
        "  titles_new = []\n",
        "  comments_new = []\n",
        "  rating_star = []\n",
        "  prsn = {} #dictionary\n",
        "  for title in titles:\n",
        "    titles_new.append(title.text)\n",
        "    count += 1\n",
        "  for comment in comments:\n",
        "    comments_new.append(comment.text)\n",
        "  for rating in ratings:\n",
        "    if(rating.get_attribute(\"class\") == \"ui_bubble_rating bubble_50\"):\n",
        "      rating_star.append(\"5 STARS\")\n",
        "    if(rating.get_attribute(\"class\") == \"ui_bubble_rating bubble_40\"):\n",
        "      rating_star.append(\"4 STARS\")\n",
        "    if(rating.get_attribute(\"class\") == \"ui_bubble_rating bubble_30\"):\n",
        "      rating_star.append(\"3 STARS\")\n",
        "    if(rating.get_attribute(\"class\") == \"ui_bubble_rating bubble_20\"):\n",
        "      rating_star.append(\"2 STARS\")\n",
        "    if(rating.get_attribute(\"class\") == \"ui_bubble_rating bubble_10\"):\n",
        "      rating_star.append(\"1 STARS\")\n",
        "  for i in range(0, count):\n",
        "    prsn[\"person \" + str(i + 1)] = {\"title_key\" : '',  \"comment_key\" : '',   \"rating_key\" : ''}\n",
        "  for i in range(1, count+1):\n",
        "    prsn['person '+str(i)]['title_key'] = titles_new[i-1]\n",
        "    prsn['person '+str(i)]['comment_key'] = comments_new[i-1]\n",
        "    prsn['person '+str(i)]['rating_key'] = rating_star[i-1]\n",
        "\n",
        "\n",
        "for p in range(1,5):\n",
        "  webcrawling()\n",
        "  jsoncrawling()\n",
        "  \n",
        "  print(\"p: \" + str(p))\n",
        "  next_page = wait.until(ec.element_to_be_clickable((By.XPATH, \"//div//a[@class = 'pageNum '][\" + str(p) + \"]\")))\n",
        "  next_page.click()\n",
        "  page_count = page_count + 1\n",
        "  time.sleep(5)\n",
        "\n",
        "\n",
        "\n",
        "# for i in range(0 , )\n",
        "jsdic = json.dumps(prsn, default=lambda o: '<not serializable>',ensure_ascii=False,indent=4, sort_keys=True)\n",
        "# jsdic = json.dumps(prsn)  #轉成json並寫入 google drive\n",
        "with open('/content/drive/My Drive/Colab Notebooks/TripadvisorCrawling.json', 'w', encoding='utf-8') as f:\n",
        "  f.write(jsdic)\n",
        "  f.close\n",
        "drive.flush_and_unmount()\n",
        "\n",
        "\n",
        "print(\"////////////////////////////////////////////////////\")\n",
        "time.sleep(10)\n",
        "wd.quit()"
      ],
      "execution_count": null,
      "outputs": [
        {
          "output_type": "stream",
          "name": "stdout",
          "text": [
            "p: 1\n",
            "p: 2\n",
            "p: 3\n",
            "p: 4\n",
            "////////////////////////////////////////////////////\n"
          ]
        }
      ]
    },
    {
      "cell_type": "code",
      "source": [
        "print(page_count)"
      ],
      "metadata": {
        "colab": {
          "base_uri": "https://localhost:8080/"
        },
        "id": "T3UnnuXTRCUz",
        "outputId": "f1dc0bdd-18e0-460e-b42b-6def908291a0"
      },
      "execution_count": null,
      "outputs": [
        {
          "output_type": "stream",
          "name": "stdout",
          "text": [
            "2\n"
          ]
        }
      ]
    },
    {
      "cell_type": "markdown",
      "metadata": {
        "id": "yEQCMPUMi1uo"
      },
      "source": [
        "## 印出dic"
      ]
    },
    {
      "cell_type": "code",
      "metadata": {
        "colab": {
          "base_uri": "https://localhost:8080/"
        },
        "id": "n2-l5YFKi1ds",
        "outputId": "4c4b61ea-03c8-48d9-d476-a8ca0581f667"
      },
      "source": [
        "for i in dic:\n",
        "  print(i)"
      ],
      "execution_count": null,
      "outputs": [
        {
          "output_type": "stream",
          "name": "stdout",
          "text": [
            "title_keys\n",
            "comment_keys\n",
            "rating_keys\n",
            "comment_time\n"
          ]
        }
      ]
    },
    {
      "cell_type": "code",
      "metadata": {
        "colab": {
          "base_uri": "https://localhost:8080/"
        },
        "id": "s9bLuEzqjkOv",
        "outputId": "815b68de-2dd0-462f-98de-228a0a1e0d53"
      },
      "source": [
        "for i in range(0,len(dic['title_keys'])):\n",
        "  print(dic.get(\"title_keys\")[i])"
      ],
      "execution_count": null,
      "outputs": [
        {
          "output_type": "stream",
          "name": "stdout",
          "text": [
            "值得一去的飯店\n",
            "美好回憶的旅行\n",
            "春節假期前涵碧樓\n",
            "極簡、禪風、Ongoing Style。\n",
            "適合約會，不宜親子\n",
            "曾經風光的雅致渡假飯店\n",
            "風景無敵東方餐廳菜色普通用餐環境壅擠\n",
            "最美的風景是房間內的蜘蛛絲\n",
            "訂出高房價，就應該提供住客高品質的住宿經驗！涵碧樓該往前走了 !\n",
            "旅館管理需要加強，旅客隱私沒有保障\n",
            "古典飯店\n",
            "環境優美\n",
            "高質感的住宿環境\n",
            "美好的地方\n",
            "地理位置和服務極佳的飯店、有很棒的三溫暖澡堂、飲食水平差強人意\n",
            "悠閒的地方\n",
            "最喜歡的飯店\n",
            "完美的家庭休閒\n",
            "20190402～0403 第二次住\n",
            "超級棒！！！\n"
          ]
        }
      ]
    },
    {
      "cell_type": "markdown",
      "metadata": {
        "id": "qc1T975avBat"
      },
      "source": [
        "## 印出 dictionary"
      ]
    },
    {
      "cell_type": "code",
      "metadata": {
        "colab": {
          "base_uri": "https://localhost:8080/"
        },
        "id": "5OMrbGrDKviG",
        "outputId": "0e708036-19d0-4244-d36b-7eb13bec79a4"
      },
      "source": [
        "for p_id, p_info in prsn.items():\n",
        "  print(p_id)\n",
        "  for key in p_info:\n",
        "    print(key + ' : ' , p_info[key])"
      ],
      "execution_count": null,
      "outputs": [
        {
          "output_type": "stream",
          "name": "stdout",
          "text": [
            "person 1\n",
            "title_key :  渾然天成的美景\n",
            "comment_key :  相較於華麗浮誇的裝飾，涵碧樓的住宿體驗像回到家的自在，木質調的房間寬敞舒適，打開窗外將日月潭美景近收眼底，令人回味無窮。\n",
            "rating_key :  5 STARS\n",
            "person 2\n",
            "title_key :  超級推薦的頂級飯店！\n",
            "comment_key :  頂級的待客服務與美景，住過就永難忘卻那邊的美好，超五星頂級飯店當之無愧。 有著無敵的湖景與以客為尊的服務著名，游泳池也是標準的50米，在這邊可以完全的放鬆，遠離塵囂，好好享受悠閒的度假時光。\n",
            "rating_key :  5 STARS\n",
            "person 3\n",
            "title_key :  Villa的泳池水質很棒\n",
            "comment_key :  入住Villa房型總是會對私人泳池有些期待，之前有遇過泳池太小或者泳池水質不夠清潔，讓人不敢下水游泳。淪為泡腳池。然而涵碧樓Villa的泳池相當寬敞，而且水質清澈，讓人相當舒適放鬆。非常棒！\n",
            "rating_key :  5 STARS\n",
            "person 4\n",
            "title_key :  氛圍服務硬體都棒，父母孩子三代六人享受了一次難以忘懷的旅遊。\n",
            "comment_key :  歷史位置創新建築，獨一無二無可取代。服務人員誠懇有經驗，三天兩夜都在飯店裡游走，感受禪意，簡約寧靜。不僅一生要來一次，每年都要來。涵碧樓常駐我心。沐浴用品可再升級。\n",
            "rating_key :  5 STARS\n",
            "person 5\n",
            "title_key :  期待值太高⋯⋯⋯⋯⋯\n",
            "comment_key :  住過太多飯店，對涵碧樓是相對有期待的，但入住過後，就覺得非常普通，躺在床上，沒想到肩膀上一陣刺痛，以爲漏電，沒想到又在次感到刺痛，尋找發現枕頭上一隻大紅蟻。早餐服務人員素質也有待加強，入座後詢問要咖啡或茶，等了很久還是沒來，像是忘了⋯⋯⋯⋯，有住過就好，沒什麼重複入住的興趣。\n",
            "rating_key :  2 STARS\n",
            "person 6\n",
            "title_key :  值得一去的飯店\n",
            "comment_key :  整體服務品質都很好，房間很大，提供嬰兒床、浴盆、消毒鍋。疫情期間早餐比較凌亂點其他還不錯。日月潭最美的景色從陽台就可以看得到了。\n",
            "rating_key :  5 STARS\n",
            "person 7\n",
            "title_key :  美好回憶的旅行\n",
            "comment_key :  每年都會來涵碧樓渡假，從下車到進大廳，服務人員都對我們親切的問候，感覺很溫馨。這次的旅行是為了慶祝週年紀念，謝謝涵碧樓準備的花盒，很美.讓我們很開心感動..很喜歡這裏的氣氛，任何一個角落都很美.飯店質感和服務很好，風景很優美..會讓人一來再來..\n",
            "rating_key :  5 STARS\n",
            "person 8\n",
            "title_key :  春節假期前涵碧樓\n",
            "comment_key :  春節假期前，突然訂到涵碧樓！就提早由台北回來台中，隔天到日月潭18000屬於2-3樓，位置特別拜託才給我們泳池正上面三樓，View挺好可惜空污浪費這好山好水。服務接待有超五星等級。建築物是有點老舊設施也看出歲月！但不影響心情，房內空間寬敞感受寧靜，思考的好地方！\n",
            "rating_key :  5 STARS\n",
            "person 9\n",
            "title_key :  極簡、禪風、Ongoing Style。\n",
            "comment_key :  四時皆美的日月潭，有如移光借影的明鏡，現在的涵碧樓很不一樣! 喜歡漫步泳池畔，大廳兩旁，一樓的瀑布竹林水池和通往涵碧步道的泳池旁小徑到涵碧步道，很棒的一次家庭旅行。一家三人開了二個房(連通房)的確住的舒適，但兒子的房間落塵灰塵異常的多，鼻子過敏不舒服，小遺憾。\n",
            "rating_key :  5 STARS\n",
            "person 10\n",
            "title_key :  適合約會，不宜親子\n",
            "comment_key :  涵碧樓的服務人員相對雲品來說比較專業，從停車至大廳門口開始，都有人帶領，check in後至大廳等待，有好喝的梅子紅茶，還有味道非常不錯的溫熱毛巾，之後也有專人帶領介紹環境和客房，服務態度有五星級飯店的水準。客房古樸，湖景極佳，很適合情侶夫妻來放鬆約會。沒有親子設施，所以帶小孩來我還是會選擇雲品。藝術品商店的店員服務業很好，且對商品的解說詳盡，給予高度好評。\n",
            "rating_key :  5 STARS\n",
            "person 11\n",
            "title_key :  古典飯店\n",
            "comment_key :  跨年選擇來這裡過，整體上很靜悠，很古典的氛圍，房間是木質家具跟許多花的擺飾。飯店設備最令我印象深刻的是湯池，可以白天跟晚上都來泡一下，景色不錯。房間硬體方面，其實比較中規中矩，感覺沒有更新，電視跟音響設備是舊式,似乎不是很好操控跟使用。整體飯店屬於比較昏暗，如果喜歡明亮的旅客，可能會不習慣。\n",
            "rating_key :  4 STARS\n",
            "person 12\n",
            "title_key :  環境優美\n",
            "comment_key :  氣氛沈靜、環境優美，觀景平台面對日月潭湖景，非常壯觀，服務人員態度良好，部分設施比較舊式，可以再加強！\n",
            "rating_key :  4 STARS\n",
            "person 13\n",
            "title_key :  高質感的住宿環境\n",
            "comment_key :  久聞涵碧樓的高質感住宿環境，終於有幸一窺它的真面目。入口大廳處其實是位於飯店的八樓，從八樓俯視日月潭美景，真的美不勝收，房間內的擺設都很簡單有質感，整個飯店散發一股寧靜的氛圍，真的很適合來這裡住夜晚遠離塵囂。\n",
            "rating_key :  5 STARS\n",
            "person 14\n",
            "title_key :  美好的地方\n",
            "comment_key :  日月潭涵碧酒店很漂亮。房間很大（套房），陽台很大，可以看到美麗的湖面。這家中餐館很好。所有的人都像預想的一樣友好，而且非常乾淨。同時夜床服務也非常好。在一個神奇地區的美好經歷！\n",
            "rating_key :  5 STARS\n",
            "person 15\n",
            "title_key :  地理位置和服務極佳的飯店、有很棒的三溫暖澡堂、飲食水平差強人意\n",
            "comment_key :  住的是家庭式四人房（一主臥一客臥房），位置風景沒話說得棒，房間的風格極有禪意、大多由實木打造，服務生的態度絕對有五星級的水準，很讓人有身心放鬆之感。泳池是室外的，所以可惜入住時雨天沒有使用到，但室內的三溫暖非常推薦（須額外加價$300/人），白天同時可通透室外風光。唯一不足的，大概就是餐廳和早餐顯得非常普通，對飲食較為講究者可能要考慮再三，另外，房間內偶爾可見小強和蒼蠅，也是需要改進的地方吧！\n",
            "rating_key :  4 STARS\n",
            "person 16\n",
            "title_key :  悠閒的地方\n",
            "comment_key :  風景優美， 服務很親切，不同節日有不同的活動，很適合渡假，唯一的小小缺點，是湖光軒中餐廳的餐還好。下次還會再入住。\n",
            "rating_key :  5 STARS\n",
            "person 17\n",
            "title_key :  最喜歡的飯店\n",
            "comment_key :  這是我們全家第九次入住涵碧樓，因為這裡的景觀和寧靜，都是我們很喜歡的。每一次退房時，我們也都會在飯店門口拍照留念，所以，看著十年來孩子在門口留下的身影逐漸成長，是非常有紀念價值的，希望涵碧樓門口的桌椅和盆栽要繼續維持唷！ 因為我們每次入住都喜歡待在安靜的飯店裡看書、看電影，所以希望涵碧樓圖書館內可以借閱的書籍和影片可以更新，尤其可出借的影片都頗老舊了，有點可惜。 這次在東方餐廳享用自助式晚餐，菜色豐富，口味也很不錯，期待下次再見囉 ～\n",
            "rating_key :  5 STARS\n",
            "person 18\n",
            "title_key :  完美的家庭休閒\n",
            "comment_key :  嚮往許久的日月潭涵碧樓，從老涵碧樓史蹟，隱身林間，來自Kerry Hill 木質低調現代風建築。 站在窗台眺望，清晨水墨色中的光華島，慈恩塔，遠高於預期。 每一位職工夥伴，親切貼心，真誠問候！ 值得！ 我們會再來的！\n",
            "rating_key :  5 STARS\n",
            "person 19\n",
            "title_key :  20190402～0403 第二次住\n",
            "comment_key :  20190402～0403 第二次住 湖景套房 1606 6樓 可惜不是最高樓7樓 但還是很棒 時尚之旅 16720 晚餐 沒有搭一泊二食 禪風之旅 19998 但是 還是吃 湖光軒中餐廳 單點 花費 2013 好吃 沒什麼好說 超棒 還會再來住\n",
            "rating_key :  5 STARS\n",
            "person 20\n",
            "title_key :  超級棒！！！\n",
            "comment_key :  涵碧樓本身就相當有名，一到飯店服務就非常周到，等待check in 的時候服務人員會提供迎賓飲料還有小點心。房間非常大且舒適，住在面湖的房間，景色超美！！！ 飯店提供的早餐及晚餐為自助式，雖然是自助式但是菜色精緻度高，種類也不少，也相當好吃。 此外飯店有SPA按摩服務（需提前預約，可記房帳）按摩有獨立房間，服務很棒。\n",
            "rating_key :  5 STARS\n"
          ]
        }
      ]
    },
    {
      "cell_type": "markdown",
      "metadata": {
        "id": "IJYkOChzvJEI"
      },
      "source": [
        "## 印出 json"
      ]
    },
    {
      "cell_type": "code",
      "metadata": {
        "colab": {
          "base_uri": "https://localhost:8080/"
        },
        "id": "rHpHcWCFYiNJ",
        "outputId": "abc4f0e1-f0fe-4d0f-fb0b-28dfd0bb2c06"
      },
      "source": [
        "print(jsdic)"
      ],
      "execution_count": null,
      "outputs": [
        {
          "output_type": "stream",
          "name": "stdout",
          "text": [
            "{\n",
            "    \"person 1\": {\n",
            "        \"comment_key\": \"相較於華麗浮誇的裝飾，涵碧樓的住宿體驗像回到家的自在，木質調的房間寬敞舒適，打開窗外將日月潭美景近收眼底，令人回味無窮。\",\n",
            "        \"rating_key\": \"5 STARS\",\n",
            "        \"title_key\": \"渾然天成的美景\"\n",
            "    },\n",
            "    \"person 10\": {\n",
            "        \"comment_key\": \"涵碧樓的服務人員相對雲品來說比較專業，從停車至大廳門口開始，都有人帶領，check in後至大廳等待，有好喝的梅子紅茶，還有味道非常不錯的溫熱毛巾，之後也有專人帶領介紹環境和客房，服務態度有五星級飯店的水準。客房古樸，湖景極佳，很適合情侶夫妻來放鬆約會。沒有親子設施，所以帶小孩來我還是會選擇雲品。藝術品商店的店員服務業很好，且對商品的解說詳盡，給予高度好評。\",\n",
            "        \"rating_key\": \"5 STARS\",\n",
            "        \"title_key\": \"適合約會，不宜親子\"\n",
            "    },\n",
            "    \"person 11\": {\n",
            "        \"comment_key\": \"跨年選擇來這裡過，整體上很靜悠，很古典的氛圍，房間是木質家具跟許多花的擺飾。飯店設備最令我印象深刻的是湯池，可以白天跟晚上都來泡一下，景色不錯。房間硬體方面，其實比較中規中矩，感覺沒有更新，電視跟音響設備是舊式,似乎不是很好操控跟使用。整體飯店屬於比較昏暗，如果喜歡明亮的旅客，可能會不習慣。\",\n",
            "        \"rating_key\": \"4 STARS\",\n",
            "        \"title_key\": \"古典飯店\"\n",
            "    },\n",
            "    \"person 12\": {\n",
            "        \"comment_key\": \"氣氛沈靜、環境優美，觀景平台面對日月潭湖景，非常壯觀，服務人員態度良好，部分設施比較舊式，可以再加強！\",\n",
            "        \"rating_key\": \"4 STARS\",\n",
            "        \"title_key\": \"環境優美\"\n",
            "    },\n",
            "    \"person 13\": {\n",
            "        \"comment_key\": \"久聞涵碧樓的高質感住宿環境，終於有幸一窺它的真面目。入口大廳處其實是位於飯店的八樓，從八樓俯視日月潭美景，真的美不勝收，房間內的擺設都很簡單有質感，整個飯店散發一股寧靜的氛圍，真的很適合來這裡住夜晚遠離塵囂。\",\n",
            "        \"rating_key\": \"5 STARS\",\n",
            "        \"title_key\": \"高質感的住宿環境\"\n",
            "    },\n",
            "    \"person 14\": {\n",
            "        \"comment_key\": \"日月潭涵碧酒店很漂亮。房間很大（套房），陽台很大，可以看到美麗的湖面。這家中餐館很好。所有的人都像預想的一樣友好，而且非常乾淨。同時夜床服務也非常好。在一個神奇地區的美好經歷！\",\n",
            "        \"rating_key\": \"5 STARS\",\n",
            "        \"title_key\": \"美好的地方\"\n",
            "    },\n",
            "    \"person 15\": {\n",
            "        \"comment_key\": \"住的是家庭式四人房（一主臥一客臥房），位置風景沒話說得棒，房間的風格極有禪意、大多由實木打造，服務生的態度絕對有五星級的水準，很讓人有身心放鬆之感。泳池是室外的，所以可惜入住時雨天沒有使用到，但室內的三溫暖非常推薦（須額外加價$300/人），白天同時可通透室外風光。唯一不足的，大概就是餐廳和早餐顯得非常普通，對飲食較為講究者可能要考慮再三，另外，房間內偶爾可見小強和蒼蠅，也是需要改進的地方吧！\",\n",
            "        \"rating_key\": \"4 STARS\",\n",
            "        \"title_key\": \"地理位置和服務極佳的飯店、有很棒的三溫暖澡堂、飲食水平差強人意\"\n",
            "    },\n",
            "    \"person 16\": {\n",
            "        \"comment_key\": \"風景優美， 服務很親切，不同節日有不同的活動，很適合渡假，唯一的小小缺點，是湖光軒中餐廳的餐還好。下次還會再入住。\",\n",
            "        \"rating_key\": \"5 STARS\",\n",
            "        \"title_key\": \"悠閒的地方\"\n",
            "    },\n",
            "    \"person 17\": {\n",
            "        \"comment_key\": \"這是我們全家第九次入住涵碧樓，因為這裡的景觀和寧靜，都是我們很喜歡的。每一次退房時，我們也都會在飯店門口拍照留念，所以，看著十年來孩子在門口留下的身影逐漸成長，是非常有紀念價值的，希望涵碧樓門口的桌椅和盆栽要繼續維持唷！ 因為我們每次入住都喜歡待在安靜的飯店裡看書、看電影，所以希望涵碧樓圖書館內可以借閱的書籍和影片可以更新，尤其可出借的影片都頗老舊了，有點可惜。 這次在東方餐廳享用自助式晚餐，菜色豐富，口味也很不錯，期待下次再見囉 ～\",\n",
            "        \"rating_key\": \"5 STARS\",\n",
            "        \"title_key\": \"最喜歡的飯店\"\n",
            "    },\n",
            "    \"person 18\": {\n",
            "        \"comment_key\": \"嚮往許久的日月潭涵碧樓，從老涵碧樓史蹟，隱身林間，來自Kerry Hill 木質低調現代風建築。 站在窗台眺望，清晨水墨色中的光華島，慈恩塔，遠高於預期。 每一位職工夥伴，親切貼心，真誠問候！ 值得！ 我們會再來的！\",\n",
            "        \"rating_key\": \"5 STARS\",\n",
            "        \"title_key\": \"完美的家庭休閒\"\n",
            "    },\n",
            "    \"person 19\": {\n",
            "        \"comment_key\": \"20190402～0403 第二次住 湖景套房 1606 6樓 可惜不是最高樓7樓 但還是很棒 時尚之旅 16720 晚餐 沒有搭一泊二食 禪風之旅 19998 但是 還是吃 湖光軒中餐廳 單點 花費 2013 好吃 沒什麼好說 超棒 還會再來住\",\n",
            "        \"rating_key\": \"5 STARS\",\n",
            "        \"title_key\": \"20190402～0403 第二次住\"\n",
            "    },\n",
            "    \"person 2\": {\n",
            "        \"comment_key\": \"頂級的待客服務與美景，住過就永難忘卻那邊的美好，超五星頂級飯店當之無愧。 有著無敵的湖景與以客為尊的服務著名，游泳池也是標準的50米，在這邊可以完全的放鬆，遠離塵囂，好好享受悠閒的度假時光。\",\n",
            "        \"rating_key\": \"5 STARS\",\n",
            "        \"title_key\": \"超級推薦的頂級飯店！\"\n",
            "    },\n",
            "    \"person 20\": {\n",
            "        \"comment_key\": \"涵碧樓本身就相當有名，一到飯店服務就非常周到，等待check in 的時候服務人員會提供迎賓飲料還有小點心。房間非常大且舒適，住在面湖的房間，景色超美！！！ 飯店提供的早餐及晚餐為自助式，雖然是自助式但是菜色精緻度高，種類也不少，也相當好吃。 此外飯店有SPA按摩服務（需提前預約，可記房帳）按摩有獨立房間，服務很棒。\",\n",
            "        \"rating_key\": \"5 STARS\",\n",
            "        \"title_key\": \"超級棒！！！\"\n",
            "    },\n",
            "    \"person 3\": {\n",
            "        \"comment_key\": \"入住Villa房型總是會對私人泳池有些期待，之前有遇過泳池太小或者泳池水質不夠清潔，讓人不敢下水游泳。淪為泡腳池。然而涵碧樓Villa的泳池相當寬敞，而且水質清澈，讓人相當舒適放鬆。非常棒！\",\n",
            "        \"rating_key\": \"5 STARS\",\n",
            "        \"title_key\": \"Villa的泳池水質很棒\"\n",
            "    },\n",
            "    \"person 4\": {\n",
            "        \"comment_key\": \"歷史位置創新建築，獨一無二無可取代。服務人員誠懇有經驗，三天兩夜都在飯店裡游走，感受禪意，簡約寧靜。不僅一生要來一次，每年都要來。涵碧樓常駐我心。沐浴用品可再升級。\",\n",
            "        \"rating_key\": \"5 STARS\",\n",
            "        \"title_key\": \"氛圍服務硬體都棒，父母孩子三代六人享受了一次難以忘懷的旅遊。\"\n",
            "    },\n",
            "    \"person 5\": {\n",
            "        \"comment_key\": \"住過太多飯店，對涵碧樓是相對有期待的，但入住過後，就覺得非常普通，躺在床上，沒想到肩膀上一陣刺痛，以爲漏電，沒想到又在次感到刺痛，尋找發現枕頭上一隻大紅蟻。早餐服務人員素質也有待加強，入座後詢問要咖啡或茶，等了很久還是沒來，像是忘了⋯⋯⋯⋯，有住過就好，沒什麼重複入住的興趣。\",\n",
            "        \"rating_key\": \"2 STARS\",\n",
            "        \"title_key\": \"期待值太高⋯⋯⋯⋯⋯\"\n",
            "    },\n",
            "    \"person 6\": {\n",
            "        \"comment_key\": \"整體服務品質都很好，房間很大，提供嬰兒床、浴盆、消毒鍋。疫情期間早餐比較凌亂點其他還不錯。日月潭最美的景色從陽台就可以看得到了。\",\n",
            "        \"rating_key\": \"5 STARS\",\n",
            "        \"title_key\": \"值得一去的飯店\"\n",
            "    },\n",
            "    \"person 7\": {\n",
            "        \"comment_key\": \"每年都會來涵碧樓渡假，從下車到進大廳，服務人員都對我們親切的問候，感覺很溫馨。這次的旅行是為了慶祝週年紀念，謝謝涵碧樓準備的花盒，很美.讓我們很開心感動..很喜歡這裏的氣氛，任何一個角落都很美.飯店質感和服務很好，風景很優美..會讓人一來再來..\",\n",
            "        \"rating_key\": \"5 STARS\",\n",
            "        \"title_key\": \"美好回憶的旅行\"\n",
            "    },\n",
            "    \"person 8\": {\n",
            "        \"comment_key\": \"春節假期前，突然訂到涵碧樓！就提早由台北回來台中，隔天到日月潭18000屬於2-3樓，位置特別拜託才給我們泳池正上面三樓，View挺好可惜空污浪費這好山好水。服務接待有超五星等級。建築物是有點老舊設施也看出歲月！但不影響心情，房內空間寬敞感受寧靜，思考的好地方！\",\n",
            "        \"rating_key\": \"5 STARS\",\n",
            "        \"title_key\": \"春節假期前涵碧樓\"\n",
            "    },\n",
            "    \"person 9\": {\n",
            "        \"comment_key\": \"四時皆美的日月潭，有如移光借影的明鏡，現在的涵碧樓很不一樣! 喜歡漫步泳池畔，大廳兩旁，一樓的瀑布竹林水池和通往涵碧步道的泳池旁小徑到涵碧步道，很棒的一次家庭旅行。一家三人開了二個房(連通房)的確住的舒適，但兒子的房間落塵灰塵異常的多，鼻子過敏不舒服，小遺憾。\",\n",
            "        \"rating_key\": \"5 STARS\",\n",
            "        \"title_key\": \"極簡、禪風、Ongoing Style。\"\n",
            "    }\n",
            "}\n"
          ]
        }
      ]
    },
    {
      "cell_type": "markdown",
      "metadata": {
        "id": "vwsM3DDb0lXx"
      },
      "source": [
        "## 印出 DataFrame"
      ]
    },
    {
      "cell_type": "code",
      "metadata": {
        "id": "c4mSuR15g3ai",
        "colab": {
          "base_uri": "https://localhost:8080/"
        },
        "outputId": "8d358c49-569d-44e2-df05-ab0966c99e42"
      },
      "source": [
        "# 印出dataframe\n",
        "df = pd.DataFrame(dic)  \n",
        "print(df)"
      ],
      "execution_count": null,
      "outputs": [
        {
          "output_type": "stream",
          "name": "stdout",
          "text": [
            "                          title_keys  ... comment_time\n",
            "0                            值得一去的飯店  ...     2021年11月\n",
            "1                            美好回憶的旅行  ...      2021年3月\n",
            "2                           春節假期前涵碧樓  ...      2021年2月\n",
            "3               極簡、禪風、Ongoing Style。  ...      2021年2月\n",
            "4                          適合約會，不宜親子  ...      2021年1月\n",
            "5                        曾經風光的雅致渡假飯店  ...      2021年1月\n",
            "6                 風景無敵東方餐廳菜色普通用餐環境壅擠  ...     2020年11月\n",
            "7                      最美的風景是房間內的蜘蛛絲  ...      2020年9月\n",
            "8   訂出高房價，就應該提供住客高品質的住宿經驗！涵碧樓該往前走了 !  ...      2020年6月\n",
            "9                  旅館管理需要加強，旅客隱私沒有保障  ...      2020年4月\n",
            "10                              古典飯店  ...      2020年1月\n",
            "11                              環境優美  ...     2019年12月\n",
            "12                          高質感的住宿環境  ...     2019年11月\n",
            "13                             美好的地方  ...      2019年8月\n",
            "14   地理位置和服務極佳的飯店、有很棒的三溫暖澡堂、飲食水平差強人意  ...      2019年8月\n",
            "15                             悠閒的地方  ...      2019年4月\n",
            "16                            最喜歡的飯店  ...      2019年4月\n",
            "17                           完美的家庭休閒  ...      2019年4月\n",
            "18                20190402～0403 第二次住  ...      2019年4月\n",
            "19                            超級棒！！！  ...      2019年3月\n",
            "\n",
            "[20 rows x 4 columns]\n"
          ]
        }
      ]
    },
    {
      "cell_type": "markdown",
      "metadata": {
        "id": "aBoaxMPH8VfL"
      },
      "source": [
        "# SQL\n"
      ]
    },
    {
      "cell_type": "markdown",
      "metadata": {
        "id": "Ihp5KrNm8SAy"
      },
      "source": [
        "以下區段是SQL語法"
      ]
    },
    {
      "cell_type": "markdown",
      "metadata": {
        "id": "YpTrwqkSyRTR"
      },
      "source": [
        "## Import and create path"
      ]
    },
    {
      "cell_type": "code",
      "metadata": {
        "id": "ds2W-dobVC5f",
        "colab": {
          "base_uri": "https://localhost:8080/"
        },
        "outputId": "47c8255e-78e3-47c5-b030-136b38a74759"
      },
      "source": [
        "import sqlite3\n",
        "from google.colab import drive\n",
        "import time\n",
        "import datetime\n",
        "drive.mount('/content/drive')\n",
        "myPath = '/content/drive/MyDrive/Colab Notebooks/sqlite_db/'\n",
        "conn = sqlite3.connect(myPath + 'myDatabase.db')\n",
        "c = conn.cursor()\n",
        "conn.commit()\n",
        "\n"
      ],
      "execution_count": null,
      "outputs": [
        {
          "output_type": "stream",
          "name": "stdout",
          "text": [
            "Mounted at /content/drive\n"
          ]
        }
      ]
    },
    {
      "cell_type": "markdown",
      "metadata": {
        "id": "0tYsXU4_sLSg"
      },
      "source": [
        "## Delete Table "
      ]
    },
    {
      "cell_type": "code",
      "metadata": {
        "colab": {
          "base_uri": "https://localhost:8080/"
        },
        "outputId": "da7a48a0-ecad-430e-847d-b3315dc98f42",
        "id": "qWSAb1KqsLSn"
      },
      "source": [
        "# DELETE TABLE \n",
        "c.execute(\"DROP TABLE review_infos\")\n",
        "print(\"Drop table successfully\")\n",
        "# conn.close()"
      ],
      "execution_count": null,
      "outputs": [
        {
          "output_type": "stream",
          "name": "stdout",
          "text": [
            "Drop table successfully\n"
          ]
        }
      ]
    },
    {
      "cell_type": "markdown",
      "metadata": {
        "id": "2cju65Onx6mB"
      },
      "source": [
        "## Create and Insert Table"
      ]
    },
    {
      "cell_type": "code",
      "metadata": {
        "colab": {
          "base_uri": "https://localhost:8080/"
        },
        "id": "gy5GVpZkdAwB",
        "outputId": "e5f07e7b-69f8-4fca-deb6-34e04e79c113"
      },
      "source": [
        "conn.execute('''CREATE TABLE review_infos(p TEXT PRIMARY KEY NOT NULL, \n",
        "                      title TEXT NOT NULL,\n",
        "                      comment TEXT NOT NULL, \n",
        "                      rating TEXT NOT NULL,\n",
        "                      comment_time TEXT );''')\n",
        "print('table create succesfully')\n",
        "# for title in titles_new:\n",
        "conn.execute(\"INSERT INTO review_infos (p,title,comment,rating) VALUES ('1', 'Paul', '32', 'California')\")\n",
        "print(\"insert successfully\")\n",
        "\n",
        "\n",
        "conn.commit()\n"
      ],
      "execution_count": null,
      "outputs": [
        {
          "output_type": "stream",
          "name": "stdout",
          "text": [
            "table create succesfully\n",
            "insert successfully\n"
          ]
        }
      ]
    },
    {
      "cell_type": "markdown",
      "metadata": {
        "id": "J22fcQZIyarr"
      },
      "source": [
        "## Select Table(Print Table) "
      ]
    },
    {
      "cell_type": "code",
      "metadata": {
        "colab": {
          "base_uri": "https://localhost:8080/"
        },
        "id": "7ifMJGDxygaf",
        "outputId": "56d67b6b-27c9-4bf1-cac2-2a311a0b9648"
      },
      "source": [
        "cursor = c.execute(\"SELECT p, title, comment, rating  from review_infos\")\n",
        "for row in cursor:\n",
        "  print('person: ' + row[0])\n",
        "  print('title: ' + row[1])\n",
        "  print('comment:'  + row[2])\n",
        "  print('rating: ' + row[3])\n",
        "print(\"Operation done successfully\") \n",
        "# conn.close()"
      ],
      "execution_count": null,
      "outputs": [
        {
          "output_type": "stream",
          "name": "stdout",
          "text": [
            "person: 1\n",
            "title: Paul\n",
            "comment:32\n",
            "rating: California\n",
            "Operation done successfully\n"
          ]
        }
      ]
    },
    {
      "cell_type": "markdown",
      "metadata": {
        "id": "Am1Y4RWbyI69"
      },
      "source": [
        "## Delete Table of dataframe"
      ]
    },
    {
      "cell_type": "code",
      "metadata": {
        "colab": {
          "base_uri": "https://localhost:8080/"
        },
        "id": "MOi3SWAw-lhA",
        "outputId": "85a4ddcf-d874-422b-ea6c-a20ad0a2024c"
      },
      "source": [
        "# DELETE TABLE \n",
        "c.execute(\"DROP TABLE review_infos_df\")\n",
        "print(\"Drop table successfully\")\n",
        "# conn.close()"
      ],
      "execution_count": null,
      "outputs": [
        {
          "output_type": "stream",
          "name": "stdout",
          "text": [
            "Drop table successfully\n"
          ]
        }
      ]
    },
    {
      "cell_type": "markdown",
      "metadata": {
        "id": "I_amprWZ04dn"
      },
      "source": [
        "## Use Dataframe to create table"
      ]
    },
    {
      "cell_type": "code",
      "metadata": {
        "colab": {
          "base_uri": "https://localhost:8080/"
        },
        "id": "cIBqVJWM0-L0",
        "outputId": "f82a0ec3-9aca-4a80-bee7-8f66ac9e6869"
      },
      "source": [
        "\n",
        "conn.execute('''CREATE TABLE review_infos_df(\n",
        "                      ID INTEGER PRIMARY KEY AUTOINCREMENT,\n",
        "                      title_keys TEXT NOT NULL,\n",
        "                      comment_keys TEXT NOT NULL, \n",
        "                      rating_keys TEXT NOT NULL,\n",
        "                      comment_time TEXT NOT NULL,\n",
        "                      insert_time DATETIME );''')\n",
        "print('table create succesfully')\n",
        "df.to_sql('review_infos_df', conn, if_exists='append' , index=False)"
      ],
      "execution_count": null,
      "outputs": [
        {
          "output_type": "stream",
          "name": "stdout",
          "text": [
            "table create succesfully\n"
          ]
        }
      ]
    },
    {
      "cell_type": "code",
      "source": [
        "\n",
        "for i in range(1, count+1):\n",
        "  time_range = datetime.timedelta(hours = 8)\n",
        "  local_time = datetime.datetime.now()\n",
        "  new_time = local_time + time_range\n",
        "  # timeString = time.strftime(\"%Y/%m/%d %H:%M:%S\", local_time) \n",
        "  conn.execute(\"UPDATE review_infos_df set insert_time = ? where ID= ?\",[new_time,str(i)])\n",
        "conn.commit()\n",
        "print (\"Total number of rows updated :\", conn.total_changes)"
      ],
      "metadata": {
        "colab": {
          "base_uri": "https://localhost:8080/"
        },
        "id": "waWJLtl68v3i",
        "outputId": "88553239-615c-4e5f-90b9-56a50af21639"
      },
      "execution_count": null,
      "outputs": [
        {
          "output_type": "stream",
          "name": "stdout",
          "text": [
            "Total number of rows updated : 40\n"
          ]
        }
      ]
    },
    {
      "cell_type": "markdown",
      "metadata": {
        "id": "LqOyEqE7yzUm"
      },
      "source": [
        "## Testing"
      ]
    },
    {
      "cell_type": "code",
      "metadata": {
        "colab": {
          "base_uri": "https://localhost:8080/"
        },
        "id": "Wyz-TI8beWlT",
        "outputId": "0447b31a-cbdd-4f3a-e7ac-5a2fccd55687"
      },
      "source": [
        "for i in range(1 , count):\n",
        "  print(i)"
      ],
      "execution_count": null,
      "outputs": [
        {
          "output_type": "stream",
          "name": "stdout",
          "text": [
            "1\n",
            "2\n",
            "3\n",
            "4\n"
          ]
        }
      ]
    },
    {
      "cell_type": "code",
      "source": [
        "from sqlalchemy import create_engine\n",
        "engine = create_engine('sqlite://', echo=False)"
      ],
      "metadata": {
        "id": "1UX5C_310IoW"
      },
      "execution_count": null,
      "outputs": []
    },
    {
      "cell_type": "code",
      "source": [
        "df.to_sql('review_info_tt', con=engine)\n",
        "engine.execute(\"SELECT * FROM review_info_test\").fetchall()"
      ],
      "metadata": {
        "colab": {
          "base_uri": "https://localhost:8080/"
        },
        "id": "lE7Vy2Ai0Kez",
        "outputId": "3a2f3e35-ce3a-481e-85bb-dfa52cf5ccb6"
      },
      "execution_count": null,
      "outputs": [
        {
          "output_type": "execute_result",
          "data": {
            "text/plain": [
              "[(0, '值得一去的飯店', '整體服務品質都很好，房間很大，提供嬰兒床、浴盆、消毒鍋。疫情期間早餐比較凌亂點其他還不錯。日月潭最美的景色從陽台就可以看得到了。', '5 STARS', '2021年11月'),\n",
              " (1, '美好回憶的旅行', '每年都會來涵碧樓渡假，從下車到進大廳，服務人員都對我們親切的問候，感覺很溫馨。這次的旅行是為了慶祝週年紀念，謝謝涵碧樓準備的花盒，很美.讓我們很開心感動..很喜歡這裏的氣氛，任何一個角落都很美.飯店質感和服務很好，風景很優美..會讓人一來再來..', '5 STARS', '2021年3月'),\n",
              " (2, '春節假期前涵碧樓', '春節假期前，突然訂到涵碧樓！就提早由台北回來台中，隔天到日月潭18000屬於2-3樓，位置特別拜託才給我們泳池正上面三樓，View挺好可惜空污浪費這好山好水。服務接待有超五星等級。建築物是有點老舊設施也看出歲月！但不影響心情，房內空間寬敞感受寧靜，思考的好地方！', '5 STARS', '2021年2月'),\n",
              " (3, '極簡、禪風、Ongoing Style。', '四時皆美的日月潭，有如移光借影的明鏡，現在的涵碧樓很不一樣! 喜歡漫步泳池畔，大廳兩旁，一樓的瀑布竹林水池和通往涵碧步道的泳池旁小徑到涵碧步道，很棒的一次家庭旅行。一家三人開了二個房(連通房)的確住的舒適，但兒子的房間落塵灰塵異常的多，鼻子過敏不舒服，小遺憾。', '5 STARS', '2021年2月'),\n",
              " (4, '適合約會，不宜親子', '涵碧樓的服務人員相對雲品來說比較專業，從停車至大廳門口開始，都有人帶領，check in後至大廳等待，有好喝的梅子紅茶，還有味道非常不錯的溫熱毛巾，之後也有專人帶領介紹環境和客房，服務態度有五星級飯店的水準。客房古樸，湖景極佳，很適合情侶夫妻來放鬆約會。沒有親子設施，所以帶小孩來我還是會選擇雲品。藝術品商店的店員服務業很好，且對商品的解說詳盡，給予高度好評。', '5 STARS', '2021年1月')]"
            ]
          },
          "metadata": {},
          "execution_count": 35
        }
      ]
    },
    {
      "cell_type": "code",
      "source": [
        "c.execute(\"DROP TABLE review_info_test\")\n",
        "print(\"Drop table successfully\")"
      ],
      "metadata": {
        "id": "hn0I8T9G1mCr",
        "outputId": "164ef54a-1f99-42d9-9252-e88178b949ed",
        "colab": {
          "base_uri": "https://localhost:8080/",
          "height": 185
        }
      },
      "execution_count": null,
      "outputs": [
        {
          "output_type": "error",
          "ename": "OperationalError",
          "evalue": "ignored",
          "traceback": [
            "\u001b[0;31m---------------------------------------------------------------------------\u001b[0m",
            "\u001b[0;31mOperationalError\u001b[0m                          Traceback (most recent call last)",
            "\u001b[0;32m<ipython-input-36-a8ce3f5b294e>\u001b[0m in \u001b[0;36m<module>\u001b[0;34m()\u001b[0m\n\u001b[0;32m----> 1\u001b[0;31m \u001b[0mc\u001b[0m\u001b[0;34m.\u001b[0m\u001b[0mexecute\u001b[0m\u001b[0;34m(\u001b[0m\u001b[0;34m\"DROP TABLE review_info_test\"\u001b[0m\u001b[0;34m)\u001b[0m\u001b[0;34m\u001b[0m\u001b[0;34m\u001b[0m\u001b[0m\n\u001b[0m\u001b[1;32m      2\u001b[0m \u001b[0mprint\u001b[0m\u001b[0;34m(\u001b[0m\u001b[0;34m\"Drop table successfully\"\u001b[0m\u001b[0;34m)\u001b[0m\u001b[0;34m\u001b[0m\u001b[0;34m\u001b[0m\u001b[0m\n",
            "\u001b[0;31mOperationalError\u001b[0m: no such table: review_info_test"
          ]
        }
      ]
    },
    {
      "cell_type": "markdown",
      "metadata": {
        "id": "vk7_CI7j51SO"
      },
      "source": [
        "## Select Table(Print Table) Of DataFrame"
      ]
    },
    {
      "cell_type": "code",
      "metadata": {
        "colab": {
          "base_uri": "https://localhost:8080/"
        },
        "id": "gTfPGIJS51SO",
        "outputId": "d06fb909-14d0-419b-a0d8-64dfd4d2c9c6"
      },
      "source": [
        "cursor = c.execute(\"SELECT  ID, title_keys, comment_keys, rating_keys, comment_time, insert_time  from review_infos_df\")\n",
        "for row in cursor:\n",
        "  print('ID: '+ str(row[0]))\n",
        "  print('title: ' + row[1])\n",
        "  print('comment:' + row[2])\n",
        "  print('rating: ' + row[3])\n",
        "  print('comment_time: ' + row[4])\n",
        "  print('insert_time: ' + row[5])\n",
        "  print('\\n')\n",
        "print(\"Operation done successfully\") \n",
        "# conn.close()"
      ],
      "execution_count": null,
      "outputs": [
        {
          "output_type": "stream",
          "name": "stdout",
          "text": [
            "ID: 1\n",
            "title: 值得一去的飯店\n",
            "comment:整體服務品質都很好，房間很大，提供嬰兒床、浴盆、消毒鍋。疫情期間早餐比較凌亂點其他還不錯。日月潭最美的景色從陽台就可以看得到了。\n",
            "rating: 5 STARS\n",
            "comment_time: 2021年11月\n",
            "insert_time: 2021-12-27 16:55:53.646652\n",
            "\n",
            "\n",
            "ID: 2\n",
            "title: 美好回憶的旅行\n",
            "comment:每年都會來涵碧樓渡假，從下車到進大廳，服務人員都對我們親切的問候，感覺很溫馨。這次的旅行是為了慶祝週年紀念，謝謝涵碧樓準備的花盒，很美.讓我們很開心感動..很喜歡這裏的氣氛，任何一個角落都很美.飯店質感和服務很好，風景很優美..會讓人一來再來..\n",
            "rating: 5 STARS\n",
            "comment_time: 2021年3月\n",
            "insert_time: 2021-12-27 16:55:53.652419\n",
            "\n",
            "\n",
            "ID: 3\n",
            "title: 春節假期前涵碧樓\n",
            "comment:春節假期前，突然訂到涵碧樓！就提早由台北回來台中，隔天到日月潭18000屬於2-3樓，位置特別拜託才給我們泳池正上面三樓，View挺好可惜空污浪費這好山好水。服務接待有超五星等級。建築物是有點老舊設施也看出歲月！但不影響心情，房內空間寬敞感受寧靜，思考的好地方！\n",
            "rating: 5 STARS\n",
            "comment_time: 2021年2月\n",
            "insert_time: 2021-12-27 16:55:53.652476\n",
            "\n",
            "\n",
            "ID: 4\n",
            "title: 極簡、禪風、Ongoing Style。\n",
            "comment:四時皆美的日月潭，有如移光借影的明鏡，現在的涵碧樓很不一樣! 喜歡漫步泳池畔，大廳兩旁，一樓的瀑布竹林水池和通往涵碧步道的泳池旁小徑到涵碧步道，很棒的一次家庭旅行。一家三人開了二個房(連通房)的確住的舒適，但兒子的房間落塵灰塵異常的多，鼻子過敏不舒服，小遺憾。\n",
            "rating: 5 STARS\n",
            "comment_time: 2021年2月\n",
            "insert_time: 2021-12-27 16:55:53.652489\n",
            "\n",
            "\n",
            "ID: 5\n",
            "title: 適合約會，不宜親子\n",
            "comment:涵碧樓的服務人員相對雲品來說比較專業，從停車至大廳門口開始，都有人帶領，check in後至大廳等待，有好喝的梅子紅茶，還有味道非常不錯的溫熱毛巾，之後也有專人帶領介紹環境和客房，服務態度有五星級飯店的水準。客房古樸，湖景極佳，很適合情侶夫妻來放鬆約會。沒有親子設施，所以帶小孩來我還是會選擇雲品。藝術品商店的店員服務業很好，且對商品的解說詳盡，給予高度好評。\n",
            "rating: 5 STARS\n",
            "comment_time: 2021年1月\n",
            "insert_time: 2021-12-27 16:55:53.652500\n",
            "\n",
            "\n",
            "ID: 6\n",
            "title: 曾經風光的雅致渡假飯店\n",
            "comment:已經走過18個年頭的涵碧樓，設備&裝潢居然沒有與時俱進，洗手台看起來像工廠設備，客廳Bose音響的遙控器都已經從白變成黃，冰塊箱用木頭盒的設計，看起來像骨灰罈，插座少又很鬆。走廊應該添置花卉/蠟燭/藝術品以增添人氣/文化/優雅氛圍的空間感。 Spa櫃檯人手不足，服務品質容易出現冏狀，夫妻一同享用按摩，不同盥洗室出來，也沒有服務人員通知另一人在不同等待區，不夠貼心的服務態度。帶位介紹空間的服務員毫無笑容，可能我們欠她很多錢，不便宜價格的Spa,按摩技術還不錯，可是服務人員態度需更多加強，真是讓人不能接受這是涵碧樓的服務品質。 早餐菜色選擇有在水準之內，只是靠窗位置，椅背太靠近背後他桌的椅背，感覺太靠近，無法擺放冬天大衣，因為椅背跟他桌椅背是貼緊的。\n",
            "rating: 4 STARS\n",
            "comment_time: 2021年1月\n",
            "insert_time: 2021-12-27 16:55:53.652510\n",
            "\n",
            "\n",
            "ID: 7\n",
            "title: 風景無敵東方餐廳菜色普通用餐環境壅擠\n",
            "comment:飯店停車場沒有電梯需要步行上樓,東方餐廳景觀很好但是食物內容有進步空間 牛排很硬海鮮只有蝦子跟小章魚還有非常小的螃蟹(不是很新鮮) 如果在食物上加強是會願意再去的\n",
            "rating: 3 STARS\n",
            "comment_time: 2020年11月\n",
            "insert_time: 2021-12-27 16:55:53.652521\n",
            "\n",
            "\n",
            "ID: 8\n",
            "title: 最美的風景是房間內的蜘蛛絲\n",
            "comment:如果不是這樣等級的費用，可能還會多一、二顆星。景色真的很美，絕對是得天獨厚，大部分員工也親切，入住時的檸檬紅茶（應改是）意外好喝...但ㄧ切都毀在房間天花板的蜘蛛絲（最後一張照片）........🤷🏻‍♂️🤷🏻‍♂️🤷🏻‍♂️🤷🏻‍♂️\n",
            "rating: 2 STARS\n",
            "comment_time: 2020年9月\n",
            "insert_time: 2021-12-27 16:55:53.652532\n",
            "\n",
            "\n",
            "ID: 9\n",
            "title: 訂出高房價，就應該提供住客高品質的住宿經驗！涵碧樓該往前走了 !\n",
            "comment:將近20歲的飯店，應該要修整更新某些設備了 ! 例如房門，我們一入住就發現無法從內鎖上，工程人員來修，說是有些變形，所以鎖不上，雖然有修好，但是變形就表示使用過久了 ! 再來是插座數量不足，大概只找到3個插座，1個在洗手台，另外2個都插著電蚊香，現在每個人都有自己的3C產品，插座不夠會造成充電的不方便 ! 然後是空調異音，運轉時會發出噪音，這也是因為機器老舊的問題 ! 接著是隔音問題，房間門的隔音效果不好，我們在晚上有聽見小孩的哭鬧聲；落地窗的隔音也應該加強，因為一早就聽到住客在泳池打水嬉鬧的聲音 ! 以上問題都顯示出：飯店應該要大修整了，尤其是設備的更新，才能確保住宿品質不被干擾 ，住客願意付出高昂的房價，飯店就應該給出與價格相對應的住宿品質 ! 優點就是地理位置很好，附近沒有其他雜亂的建築，所以房間看出去就是寬闊的自然美景! 服務人員熱情有禮，細節部分要加強，因為有發生送錯衣服的小插曲 ~\n",
            "rating: 4 STARS\n",
            "comment_time: 2020年6月\n",
            "insert_time: 2021-12-27 16:55:53.652549\n",
            "\n",
            "\n",
            "ID: 10\n",
            "title: 旅館管理需要加強，旅客隱私沒有保障\n",
            "comment:在12/31/2019～1/02/2020 入住. 相隔幾年舊地重遊，訝異旅館房間老舊(尤其是浴室),感覺旅館的維修並不太好。跨年倒數的活動乏善可陳。但是東方餐廳的主管和服務人員態度很親切很專業， 相較之下湖光軒的服務態度就差了一些。入住的第二天居然在房間陽台發現一台無人攝影飛機在我們住的陽台往我們房間拍攝（OMG!,)。連忙連絡旅館櫃台人員處理。旅館何姓經理説已告知新入住的住客（drone的主人）， 何姓經理說”drone的主人表示並沒有拍到什麼。至於旅客隱私方面，因為台灣對於drone的使用沒有明確的法律規定，如果我們決定要報警我們可以自行報警“。至於drone的主人，何姓經理說“基於保護客人隱私，旅館無法告知”。（那麼我們被拍攝的客人隱私怎麼辦？）。當要求換房間（因為我們發現drone的主人可能是我們房間隔壁的住客）， 何姓經理告知我們,因為當天（01/01/2020）旅館全滿無法另外再安排換房間。他説他當天晚上會特別留在旅館值班並加強我們住的那一區的夜間尋邏。當問及旅館是否有或將來會在旅客入住時規定或是宣導住客不能在旅館建物特定的距離内使用無人機來拍攝其他住客？何姓經理回說:”目前無這個想法和做法。“ 當天我們全家懷著不安的心過了一夜。隔天check out時櫃臺小姐收了我的信用卡付款後只淡淡笑了一下説：再見。 從大廳到上我們請旅館安排預定的計乘車，計程車竟然停在離旅館門口很遠的地方，我們必須自己走路過去上車並沒有服務人員指引。（感覺上好像付錢後，就該摸鼻子走人。和多年前來的以客為尊的親切態度完全不同。）試問涵碧樓除了向住客收取高級的收費外，對於住客的隱私和態度是如此這般和收費有對等嗎？雖然有填寫旅客滿意度問卷調查，直至今日04/08/2020）完全沒有收到任何的回音。（在我們的感覺上比世界上大部分二星級的旅館還不如。）不建議入住。\n",
            "rating: 1 STARS\n",
            "comment_time: 2020年4月\n",
            "insert_time: 2021-12-27 16:55:53.652831\n",
            "\n",
            "\n",
            "ID: 11\n",
            "title: 古典飯店\n",
            "comment:跨年選擇來這裡過，整體上很靜悠，很古典的氛圍，房間是木質家具跟許多花的擺飾。飯店設備最令我印象深刻的是湯池，可以白天跟晚上都來泡一下，景色不錯。房間硬體方面，其實比較中規中矩，感覺沒有更新，電視跟音響設備是舊式,似乎不是很好操控跟使用。整體飯店屬於比較昏暗，如果喜歡明亮的旅客，可能會不習慣。\n",
            "rating: 4 STARS\n",
            "comment_time: 2020年1月\n",
            "insert_time: 2021-12-27 16:55:53.652856\n",
            "\n",
            "\n",
            "ID: 12\n",
            "title: 環境優美\n",
            "comment:氣氛沈靜、環境優美，觀景平台面對日月潭湖景，非常壯觀，服務人員態度良好，部分設施比較舊式，可以再加強！\n",
            "rating: 4 STARS\n",
            "comment_time: 2019年12月\n",
            "insert_time: 2021-12-27 16:55:53.652867\n",
            "\n",
            "\n",
            "ID: 13\n",
            "title: 高質感的住宿環境\n",
            "comment:久聞涵碧樓的高質感住宿環境，終於有幸一窺它的真面目。入口大廳處其實是位於飯店的八樓，從八樓俯視日月潭美景，真的美不勝收，房間內的擺設都很簡單有質感，整個飯店散發一股寧靜的氛圍，真的很適合來這裡住夜晚遠離塵囂。\n",
            "rating: 5 STARS\n",
            "comment_time: 2019年11月\n",
            "insert_time: 2021-12-27 16:55:53.653134\n",
            "\n",
            "\n",
            "ID: 14\n",
            "title: 美好的地方\n",
            "comment:日月潭涵碧酒店很漂亮。房間很大（套房），陽台很大，可以看到美麗的湖面。這家中餐館很好。所有的人都像預想的一樣友好，而且非常乾淨。同時夜床服務也非常好。在一個神奇地區的美好經歷！\n",
            "rating: 5 STARS\n",
            "comment_time: 2019年8月\n",
            "insert_time: 2021-12-27 16:55:53.653159\n",
            "\n",
            "\n",
            "ID: 15\n",
            "title: 地理位置和服務極佳的飯店、有很棒的三溫暖澡堂、飲食水平差強人意\n",
            "comment:住的是家庭式四人房（一主臥一客臥房），位置風景沒話說得棒，房間的風格極有禪意、大多由實木打造，服務生的態度絕對有五星級的水準，很讓人有身心放鬆之感。泳池是室外的，所以可惜入住時雨天沒有使用到，但室內的三溫暖非常推薦（須額外加價$300/人），白天同時可通透室外風光。唯一不足的，大概就是餐廳和早餐顯得非常普通，對飲食較為講究者可能要考慮再三，另外，房間內偶爾可見小強和蒼蠅，也是需要改進的地方吧！\n",
            "rating: 4 STARS\n",
            "comment_time: 2019年8月\n",
            "insert_time: 2021-12-27 16:55:53.653170\n",
            "\n",
            "\n",
            "ID: 16\n",
            "title: 悠閒的地方\n",
            "comment:風景優美， 服務很親切，不同節日有不同的活動，很適合渡假，唯一的小小缺點，是湖光軒中餐廳的餐還好。下次還會再入住。\n",
            "rating: 5 STARS\n",
            "comment_time: 2019年4月\n",
            "insert_time: 2021-12-27 16:55:53.653180\n",
            "\n",
            "\n",
            "ID: 17\n",
            "title: 最喜歡的飯店\n",
            "comment:這是我們全家第九次入住涵碧樓，因為這裡的景觀和寧靜，都是我們很喜歡的。每一次退房時，我們也都會在飯店門口拍照留念，所以，看著十年來孩子在門口留下的身影逐漸成長，是非常有紀念價值的，希望涵碧樓門口的桌椅和盆栽要繼續維持唷！ 因為我們每次入住都喜歡待在安靜的飯店裡看書、看電影，所以希望涵碧樓圖書館內可以借閱的書籍和影片可以更新，尤其可出借的影片都頗老舊了，有點可惜。 這次在東方餐廳享用自助式晚餐，菜色豐富，口味也很不錯，期待下次再見囉 ～\n",
            "rating: 5 STARS\n",
            "comment_time: 2019年4月\n",
            "insert_time: 2021-12-27 16:55:53.653190\n",
            "\n",
            "\n",
            "ID: 18\n",
            "title: 完美的家庭休閒\n",
            "comment:嚮往許久的日月潭涵碧樓，從老涵碧樓史蹟，隱身林間，來自Kerry Hill 木質低調現代風建築。 站在窗台眺望，清晨水墨色中的光華島，慈恩塔，遠高於預期。 每一位職工夥伴，親切貼心，真誠問候！ 值得！ 我們會再來的！\n",
            "rating: 5 STARS\n",
            "comment_time: 2019年4月\n",
            "insert_time: 2021-12-27 16:55:53.653200\n",
            "\n",
            "\n",
            "ID: 19\n",
            "title: 20190402～0403 第二次住\n",
            "comment:20190402～0403 第二次住 湖景套房 1606 6樓 可惜不是最高樓7樓 但還是很棒 時尚之旅 16720 晚餐 沒有搭一泊二食 禪風之旅 19998 但是 還是吃 湖光軒中餐廳 單點 花費 2013 好吃 沒什麼好說 超棒 還會再來住\n",
            "rating: 5 STARS\n",
            "comment_time: 2019年4月\n",
            "insert_time: 2021-12-27 16:55:53.653209\n",
            "\n",
            "\n",
            "ID: 20\n",
            "title: 超級棒！！！\n",
            "comment:涵碧樓本身就相當有名，一到飯店服務就非常周到，等待check in 的時候服務人員會提供迎賓飲料還有小點心。房間非常大且舒適，住在面湖的房間，景色超美！！！ 飯店提供的早餐及晚餐為自助式，雖然是自助式但是菜色精緻度高，種類也不少，也相當好吃。 此外飯店有SPA按摩服務（需提前預約，可記房帳）按摩有獨立房間，服務很棒。\n",
            "rating: 5 STARS\n",
            "comment_time: 2019年3月\n",
            "insert_time: 2021-12-27 16:55:53.653218\n",
            "\n",
            "\n",
            "Operation done successfully\n"
          ]
        }
      ]
    },
    {
      "cell_type": "code",
      "metadata": {
        "id": "oZAx75Or50vY",
        "colab": {
          "base_uri": "https://localhost:8080/"
        },
        "outputId": "a726030c-7dc8-4c26-c3ce-d79401c93d57"
      },
      "source": [
        ""
      ],
      "execution_count": null,
      "outputs": [
        {
          "output_type": "stream",
          "name": "stdout",
          "text": [
            "[]\n"
          ]
        }
      ]
    }
  ]
}